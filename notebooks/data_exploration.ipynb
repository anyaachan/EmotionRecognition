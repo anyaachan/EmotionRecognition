{
  "cells": [
    {
      "cell_type": "code",
      "execution_count": 387,
      "metadata": {
        "id": "gSc5nRAlX9hm"
      },
      "outputs": [],
      "source": [
        "%%capture\n",
        "!pip install datasets\n",
        "!pip install contractions"
      ]
    },
    {
      "cell_type": "code",
      "execution_count": 388,
      "metadata": {
        "id": "9Z8-bJjMXrvY"
      },
      "outputs": [],
      "source": [
        "# Standard library imports\n",
        "import logging\n",
        "import re\n",
        "import string\n",
        "\n",
        "# Related third party imports\n",
        "import matplotlib.pyplot as plt\n",
        "import numpy as np\n",
        "import pandas as pd\n",
        "import seaborn as sns\n",
        "from sklearn.metrics import confusion_matrix, accuracy_score\n",
        "from sklearn.model_selection import train_test_split\n",
        "from sklearn.ensemble import RandomForestClassifier\n",
        "from sklearn.utils import shuffle\n",
        "import tensorflow as tf\n",
        "from tensorflow.keras.callbacks import EarlyStopping, ReduceLROnPlateau\n",
        "from tensorflow.keras.metrics import Precision, Recall\n",
        "from tensorflow.keras.preprocessing import sequence\n",
        "from tensorflow.keras.preprocessing.sequence import pad_sequences\n",
        "from tensorflow.keras.preprocessing.text import Tokenizer\n",
        "from wordcloud import WordCloud\n",
        "import contractions\n",
        "\n",
        "# Local application/library specific imports\n",
        "import nltk\n",
        "from nltk import word_tokenize\n",
        "from nltk.corpus import stopwords, wordnet\n",
        "import random\n",
        "from datasets import load_dataset, concatenate_datasets"
      ]
    },
    {
      "cell_type": "markdown",
      "metadata": {
        "id": "l-Myv9eO0x5H"
      },
      "source": [
        "\n",
        "\n",
        "```\n",
        "# This is formatted as code\n",
        "```\n",
        "\n",
        "# Importing Data"
      ]
    },
    {
      "cell_type": "markdown",
      "source": [
        "Firstly, we download key components from the NLTK library, which are requireded for preprocessing tasks further in the code."
      ],
      "metadata": {
        "id": "rr5ezjBn6aNI"
      }
    },
    {
      "cell_type": "code",
      "execution_count": 389,
      "metadata": {
        "colab": {
          "base_uri": "https://localhost:8080/"
        },
        "id": "GRcQWRW7pb6o",
        "collapsed": true,
        "outputId": "36a5b9c4-b7d5-49e2-cd38-34562e0b0645"
      },
      "outputs": [
        {
          "output_type": "stream",
          "name": "stderr",
          "text": [
            "[nltk_data] Downloading package wordnet to /root/nltk_data...\n",
            "[nltk_data]   Package wordnet is already up-to-date!\n",
            "[nltk_data] Downloading package punkt to /root/nltk_data...\n",
            "[nltk_data]   Package punkt is already up-to-date!\n",
            "[nltk_data] Downloading package stopwords to /root/nltk_data...\n",
            "[nltk_data]   Package stopwords is already up-to-date!\n",
            "[nltk_data] Downloading package averaged_perceptron_tagger to\n",
            "[nltk_data]     /root/nltk_data...\n",
            "[nltk_data]   Package averaged_perceptron_tagger is already up-to-\n",
            "[nltk_data]       date!\n"
          ]
        },
        {
          "output_type": "execute_result",
          "data": {
            "text/plain": [
              "True"
            ]
          },
          "metadata": {},
          "execution_count": 389
        }
      ],
      "source": [
        "nltk.download('wordnet') #lexical database of English words\n",
        "nltk.download('punkt') #tokenizer for splitting text into a list of sentences\n",
        "nltk.download('stopwords') #list of common words that do not contribute to the main meaning of text\n",
        "nltk.download('averaged_perceptron_tagger') #part-of-speech tagger"
      ]
    },
    {
      "cell_type": "markdown",
      "metadata": {
        "id": "V3IwJvjt1g0M"
      },
      "source": [
        "The data is imported from 3 distinct datasets to ensure the diversity of input data."
      ]
    },
    {
      "cell_type": "code",
      "execution_count": 390,
      "metadata": {
        "id": "CWEDiph-Xrva"
      },
      "outputs": [],
      "source": [
        "%%capture\n",
        "reddit_emotion_dataset = load_dataset(\"go_emotions\", \"raw\")\n",
        "reddit_emotion_dataset = reddit_emotion_dataset[\"train\"]\n",
        "\n",
        "twitter_dataset_01 = load_dataset(\"tweet_eval\", \"emotion\")\n",
        "\n",
        "twitter_dataset_02 = load_dataset(\"dair-ai/emotion\", name=\"unsplit\")"
      ]
    },
    {
      "cell_type": "markdown",
      "source": [
        "Let's investigate the datasets and provide some background information as well as links.\n",
        "- **Reddit Dataset**: contains 58k Reddit comments, labelled for 27 emotions or Neutral by native English speakers from India. [Dataset Link](https://huggingface.co/datasets/google-research-datasets/go_emotions)\n",
        "- **Twitter Dataset 1**: contains 5k tweets classified into 4 distinct emotions, data collected from [SemEval-2018 Task 1](https://aclanthology.org/S18-1001/). [Dataset Link](https://huggingface.co/datasets/cardiffnlp/tweet_eval)\n",
        "- **Twitter Dataset 2**: contains 417k entries, classifying tweets into 6 emotions. Labeled using [unsupervised model](https://aclanthology.org/D18-1404/). [Dataset Link](https://huggingface.co/datasets/dair-ai/emotion)\n",
        "\n",
        "All of the datasets contain only entries in English.\n",
        "\n",
        "Let's visualize the sizes of the datasets."
      ],
      "metadata": {
        "id": "M4FdR-1d6mEt"
      }
    },
    {
      "cell_type": "code",
      "execution_count": 391,
      "metadata": {
        "colab": {
          "base_uri": "https://localhost:8080/",
          "height": 564
        },
        "id": "9CfMESBx4uNe",
        "outputId": "f5abcb2c-7b85-4efe-d3fe-015913f4438a"
      },
      "outputs": [
        {
          "output_type": "display_data",
          "data": {
            "text/plain": [
              "<Figure size 1000x600 with 1 Axes>"
            ],
            "image/png": "[encoded data removed]"
          },
          "metadata": {}
        }
      ],
      "source": [
        "dataset_sizes = {\n",
        "    \"Reddit Emotions\": len(reddit_emotion_dataset),\n",
        "    \"Twitter Dataset 01\": len(twitter_dataset_01[\"train\"]),\n",
        "    \"Twitter Dataset 02\": len(twitter_dataset_02[\"train\"])\n",
        "}\n",
        "\n",
        "plt.figure(figsize=(10, 6))\n",
        "sns.barplot(x=list(dataset_sizes.keys()), y=list(dataset_sizes.values()))\n",
        "plt.title('Number of Samples in Each Dataset')\n",
        "plt.xlabel('Number of Samples')\n",
        "plt.ylabel('Dataset')\n",
        "plt.show()"
      ]
    },
    {
      "cell_type": "markdown",
      "source": [
        "# Datasets Preprocessing"
      ],
      "metadata": {
        "id": "2uN5MYefvMTK"
      }
    },
    {
      "cell_type": "markdown",
      "metadata": {
        "id": "OYXsCrSf2VnD"
      },
      "source": [
        "## Reddit Dataset Preprocessing"
      ]
    },
    {
      "cell_type": "markdown",
      "source": [
        "To focus on the attributes relevant to our emotion analysis, we simplify the Reddit dataset by removing several columns.\n",
        "\n",
        "While some features such as \"author\" or \"subreddit\" may provide valuable information to the emotion analysis, for now the task is simplified, as these columns are more likely to introduce noisiness into data."
      ],
      "metadata": {
        "id": "5vzoUxbxvUlh"
      }
    },
    {
      "cell_type": "code",
      "execution_count": 392,
      "metadata": {
        "id": "mshsiOqlXrvb"
      },
      "outputs": [],
      "source": [
        "reddit_emotion_dataset = reddit_emotion_dataset.remove_columns([\"link_id\",\n",
        "                                                                \"author\",\n",
        "                                                                \"id\",\n",
        "                                                                \"parent_id\",\n",
        "                                                                \"created_utc\",\n",
        "                                                                \"subreddit\",\n",
        "                                                                \"example_very_unclear\",\n",
        "                                                                \"rater_id\"\n",
        "                                                                ])"
      ]
    },
    {
      "cell_type": "markdown",
      "metadata": {
        "id": "PTc4e-ra2cVP"
      },
      "source": [
        "To ensure clarity, let's focus only on entries with **distinctly labeled emotions**. This involves two key filtering steps:\n",
        "- Removing entries **without any emotion** (where all emotions labeled as 0).\n",
        "- Selecting entries that are labeled with **exactly one emotion**.\n"
      ]
    },
    {
      "cell_type": "code",
      "execution_count": 393,
      "metadata": {
        "colab": {
          "base_uri": "https://localhost:8080/"
        },
        "id": "bahVdLv0Xrvb",
        "outputId": "c1710267-57b5-44ae-cd2a-0aaec34b289d"
      },
      "outputs": [
        {
          "output_type": "stream",
          "name": "stdout",
          "text": [
            "Original number of rows: 211225\n",
            "Filtered number of rows: 171820\n"
          ]
        }
      ],
      "source": [
        "reddit_emotion_features = ['admiration', 'amusement', 'anger', 'annoyance', 'approval', 'caring', 'confusion', 'curiosity', 'desire', 'disappointment', 'disapproval', 'disgust', 'embarrassment', 'excitement', 'fear', 'gratitude', 'grief', 'joy', 'love', 'nervousness', 'optimism', 'pride', 'realization', 'relief', 'remorse', 'sadness', 'surprise', 'neutral']\n",
        "\n",
        "def filter_zero_emotions(entry):\n",
        "    return any(entry[emotion] > 0 for emotion in reddit_emotion_features)\n",
        "\n",
        "def filter_single_emotion(entry):\n",
        "    return sum(entry[emotion] for emotion in reddit_emotion_features) == 1\n",
        "\n",
        "print(\"Original number of rows:\", len(reddit_emotion_dataset))\n",
        "\n",
        "reddit_emotion_dataset = reddit_emotion_dataset.filter(filter_zero_emotions)\n",
        "reddit_emotion_dataset = reddit_emotion_dataset.filter(filter_single_emotion)\n",
        "\n",
        "print(\"Filtered number of rows:\", len(reddit_emotion_dataset))\n"
      ]
    },
    {
      "cell_type": "code",
      "execution_count": 394,
      "metadata": {
        "id": "3alWeWCxXrvc"
      },
      "outputs": [],
      "source": [
        "reddit_emotion_dataset = reddit_emotion_dataset.to_pandas()"
      ]
    },
    {
      "cell_type": "markdown",
      "metadata": {
        "id": "LuQ3bhH22sex"
      },
      "source": [
        "As can be seen from the data visualization, there is a strong prevalence of \"**neutral**\" emotion in the data.\n",
        "\n",
        "While imbalanced data may pose a challange, no action required until other two datasets are not observed, as they might balance the data."
      ]
    },
    {
      "cell_type": "code",
      "execution_count": 395,
      "metadata": {
        "colab": {
          "base_uri": "https://localhost:8080/",
          "height": 568
        },
        "id": "hbplCq8nXrvc",
        "outputId": "330ce57c-f221-4330-c2ba-bca7100a0ee5"
      },
      "outputs": [
        {
          "output_type": "display_data",
          "data": {
            "text/plain": [
              "<Figure size 640x480 with 1 Axes>"
            ],
            "image/png": "[encoded data removed]"
          },
          "metadata": {}
        }
      ],
      "source": [
        "emotions_count = {}\n",
        "\n",
        "for column in reddit_emotion_dataset.columns:\n",
        "    if column != 'text':\n",
        "        emotions_count[column] = (reddit_emotion_dataset[column] == 1).sum()\n",
        "\n",
        "emotions_count = pd.Series(emotions_count)\n",
        "emotions_count.sort_values(ascending=False, inplace=True)\n",
        "\n",
        "emotions_count.plot(kind='bar')\n",
        "plt.title('Distribution of Feature')\n",
        "plt.xlabel('Value')\n",
        "plt.ylabel('Frequency')\n",
        "plt.show()"
      ]
    },
    {
      "cell_type": "code",
      "execution_count": 396,
      "metadata": {
        "id": "R_ljjSyZXrvc"
      },
      "outputs": [],
      "source": [
        "reddit_emotion_dataset[\"label\"] = pd.from_dummies(reddit_emotion_dataset[reddit_emotion_features])\n",
        "reddit_emotion_dataset = reddit_emotion_dataset[[\"text\", \"label\"]]"
      ]
    },
    {
      "cell_type": "markdown",
      "metadata": {
        "id": "lD9Vd6bol0w7"
      },
      "source": [
        "## Twitter Dataset Preprocessing"
      ]
    },
    {
      "cell_type": "code",
      "execution_count": 397,
      "metadata": {
        "colab": {
          "base_uri": "https://localhost:8080/"
        },
        "id": "ArMcpvMVXrvc",
        "outputId": "0e309023-da59-4451-e6e6-e2ac05fd7a11"
      },
      "outputs": [
        {
          "output_type": "execute_result",
          "data": {
            "text/plain": [
              "Dataset({\n",
              "    features: ['text', 'label'],\n",
              "    num_rows: 5052\n",
              "})"
            ]
          },
          "metadata": {},
          "execution_count": 397
        }
      ],
      "source": [
        "twitter_dataset_01 = concatenate_datasets([twitter_dataset_01[\"train\"], twitter_dataset_01[\"validation\"], twitter_dataset_01[\"test\"]])\n",
        "twitter_dataset_01"
      ]
    },
    {
      "cell_type": "markdown",
      "source": [
        "Let's adjust categorical labels to be more descriptive in order to ease the dataset concatenation with the rest of the data and future visualization tasks."
      ],
      "metadata": {
        "id": "jBkjQtEYChQM"
      }
    },
    {
      "cell_type": "code",
      "execution_count": 398,
      "metadata": {
        "colab": {
          "base_uri": "https://localhost:8080/",
          "height": 423
        },
        "id": "cxH0iZwHXrvc",
        "outputId": "559b4a0f-c9b4-402a-f2da-1cfabbe7fbc2"
      },
      "outputs": [
        {
          "output_type": "execute_result",
          "data": {
            "text/plain": [
              "                                                   text     label\n",
              "0     “Worry is a down payment on a problem you may ...  optimism\n",
              "1     My roommate: it's okay that we can't spell bec...     anger\n",
              "2     No but that's so cute. Atsu was probably shy a...       joy\n",
              "3     Rooneys fucking untouchable isn't he? Been fuc...     anger\n",
              "4     it's pretty depressing when u hit pan on ur fa...   sadness\n",
              "...                                                 ...       ...\n",
              "5047  I need a sparkling bodysuit . No occasion. Jus...       joy\n",
              "5048  @user I've finished reading it; simply mind-bl...   sadness\n",
              "5049  shaft abrasions from panties merely shifted to...     anger\n",
              "5050        All this fake outrage. Y'all need to stop 🤣     anger\n",
              "5051  Would be ever so grateful if you could record ...       joy\n",
              "\n",
              "[5052 rows x 2 columns]"
            ],
            "text/html": [
              "\n",
              "  <div id=\"df-87c10709-0581-494a-8dd9-627bcc2ea9d4\" class=\"colab-df-container\">\n",
              "    <div>\n",
              "<style scoped>\n",
              "    .dataframe tbody tr th:only-of-type {\n",
              "        vertical-align: middle;\n",
              "    }\n",
              "\n",
              "    .dataframe tbody tr th {\n",
              "        vertical-align: top;\n",
              "    }\n",
              "\n",
              "    .dataframe thead th {\n",
              "        text-align: right;\n",
              "    }\n",
              "</style>\n",
              "<table border=\"1\" class=\"dataframe\">\n",
              "  <thead>\n",
              "    <tr style=\"text-align: right;\">\n",
              "      <th></th>\n",
              "      <th>text</th>\n",
              "      <th>label</th>\n",
              "    </tr>\n",
              "  </thead>\n",
              "  <tbody>\n",
              "    <tr>\n",
              "      <th>0</th>\n",
              "      <td>“Worry is a down payment on a problem you may ...</td>\n",
              "      <td>optimism</td>\n",
              "    </tr>\n",
              "    <tr>\n",
              "      <th>1</th>\n",
              "      <td>My roommate: it's okay that we can't spell bec...</td>\n",
              "      <td>anger</td>\n",
              "    </tr>\n",
              "    <tr>\n",
              "      <th>2</th>\n",
              "      <td>No but that's so cute. Atsu was probably shy a...</td>\n",
              "      <td>joy</td>\n",
              "    </tr>\n",
              "    <tr>\n",
              "      <th>3</th>\n",
              "      <td>Rooneys fucking untouchable isn't he? Been fuc...</td>\n",
              "      <td>anger</td>\n",
              "    </tr>\n",
              "    <tr>\n",
              "      <th>4</th>\n",
              "      <td>it's pretty depressing when u hit pan on ur fa...</td>\n",
              "      <td>sadness</td>\n",
              "    </tr>\n",
              "    <tr>\n",
              "      <th>...</th>\n",
              "      <td>...</td>\n",
              "      <td>...</td>\n",
              "    </tr>\n",
              "    <tr>\n",
              "      <th>5047</th>\n",
              "      <td>I need a sparkling bodysuit . No occasion. Jus...</td>\n",
              "      <td>joy</td>\n",
              "    </tr>\n",
              "    <tr>\n",
              "      <th>5048</th>\n",
              "      <td>@user I've finished reading it; simply mind-bl...</td>\n",
              "      <td>sadness</td>\n",
              "    </tr>\n",
              "    <tr>\n",
              "      <th>5049</th>\n",
              "      <td>shaft abrasions from panties merely shifted to...</td>\n",
              "      <td>anger</td>\n",
              "    </tr>\n",
              "    <tr>\n",
              "      <th>5050</th>\n",
              "      <td>All this fake outrage. Y'all need to stop 🤣</td>\n",
              "      <td>anger</td>\n",
              "    </tr>\n",
              "    <tr>\n",
              "      <th>5051</th>\n",
              "      <td>Would be ever so grateful if you could record ...</td>\n",
              "      <td>joy</td>\n",
              "    </tr>\n",
              "  </tbody>\n",
              "</table>\n",
              "<p>5052 rows × 2 columns</p>\n",
              "</div>\n",
              "    <div class=\"colab-df-buttons\">\n",
              "\n",
              "  <div class=\"colab-df-container\">\n",
              "    <button class=\"colab-df-convert\" onclick=\"convertToInteractive('df-87c10709-0581-494a-8dd9-627bcc2ea9d4')\"\n",
              "            title=\"Convert this dataframe to an interactive table.\"\n",
              "            style=\"display:none;\">\n",
              "\n",
              "  <svg xmlns=\"http://www.w3.org/2000/svg\" height=\"24px\" viewBox=\"0 -960 960 960\">\n",
              "    <path d=\"M120-120v-720h720v720H120Zm60-500h600v-160H180v160Zm220 220h160v-160H400v160Zm0 220h160v-160H400v160ZM180-400h160v-160H180v160Zm440 0h160v-160H620v160ZM180-180h160v-160H180v160Zm440 0h160v-160H620v160Z\"/>\n",
              "  </svg>\n",
              "    </button>\n",
              "\n",
              "  <style>\n",
              "    .colab-df-container {\n",
              "      display:flex;\n",
              "      gap: 12px;\n",
              "    }\n",
              "\n",
              "    .colab-df-convert {\n",
              "      background-color: #E8F0FE;\n",
              "      border: none;\n",
              "      border-radius: 50%;\n",
              "      cursor: pointer;\n",
              "      display: none;\n",
              "      fill: #1967D2;\n",
              "      height: 32px;\n",
              "      padding: 0 0 0 0;\n",
              "      width: 32px;\n",
              "    }\n",
              "\n",
              "    .colab-df-convert:hover {\n",
              "      background-color: #E2EBFA;\n",
              "      box-shadow: 0px 1px 2px rgba(60, 64, 67, 0.3), 0px 1px 3px 1px rgba(60, 64, 67, 0.15);\n",
              "      fill: #174EA6;\n",
              "    }\n",
              "\n",
              "    .colab-df-buttons div {\n",
              "      margin-bottom: 4px;\n",
              "    }\n",
              "\n",
              "    [theme=dark] .colab-df-convert {\n",
              "      background-color: #3B4455;\n",
              "      fill: #D2E3FC;\n",
              "    }\n",
              "\n",
              "    [theme=dark] .colab-df-convert:hover {\n",
              "      background-color: #434B5C;\n",
              "      box-shadow: 0px 1px 3px 1px rgba(0, 0, 0, 0.15);\n",
              "      filter: drop-shadow(0px 1px 2px rgba(0, 0, 0, 0.3));\n",
              "      fill: #FFFFFF;\n",
              "    }\n",
              "  </style>\n",
              "\n",
              "    <script>\n",
              "      const buttonEl =\n",
              "        document.querySelector('#df-87c10709-0581-494a-8dd9-627bcc2ea9d4 button.colab-df-convert');\n",
              "      buttonEl.style.display =\n",
              "        google.colab.kernel.accessAllowed ? 'block' : 'none';\n",
              "\n",
              "      async function convertToInteractive(key) {\n",
              "        const element = document.querySelector('#df-87c10709-0581-494a-8dd9-627bcc2ea9d4');\n",
              "        const dataTable =\n",
              "          await google.colab.kernel.invokeFunction('convertToInteractive',\n",
              "                                                    [key], {});\n",
              "        if (!dataTable) return;\n",
              "\n",
              "        const docLinkHtml = 'Like what you see? Visit the ' +\n",
              "          '<a target=\"_blank\" href=https://colab.research.google.com/notebooks/data_table.ipynb>data table notebook</a>'\n",
              "          + ' to learn more about interactive tables.';\n",
              "        element.innerHTML = '';\n",
              "        dataTable['output_type'] = 'display_data';\n",
              "        await google.colab.output.renderOutput(dataTable, element);\n",
              "        const docLink = document.createElement('div');\n",
              "        docLink.innerHTML = docLinkHtml;\n",
              "        element.appendChild(docLink);\n",
              "      }\n",
              "    </script>\n",
              "  </div>\n",
              "\n",
              "\n",
              "<div id=\"df-46f85f07-eb02-4ba9-b0f5-cea5c9fd43a9\">\n",
              "  <button class=\"colab-df-quickchart\" onclick=\"quickchart('df-46f85f07-eb02-4ba9-b0f5-cea5c9fd43a9')\"\n",
              "            title=\"Suggest charts\"\n",
              "            style=\"display:none;\">\n",
              "\n",
              "<svg xmlns=\"http://www.w3.org/2000/svg\" height=\"24px\"viewBox=\"0 0 24 24\"\n",
              "     width=\"24px\">\n",
              "    <g>\n",
              "        <path d=\"M19 3H5c-1.1 0-2 .9-2 2v14c0 1.1.9 2 2 2h14c1.1 0 2-.9 2-2V5c0-1.1-.9-2-2-2zM9 17H7v-7h2v7zm4 0h-2V7h2v10zm4 0h-2v-4h2v4z\"/>\n",
              "    </g>\n",
              "</svg>\n",
              "  </button>\n",
              "\n",
              "<style>\n",
              "  .colab-df-quickchart {\n",
              "      --bg-color: #E8F0FE;\n",
              "      --fill-color: #1967D2;\n",
              "      --hover-bg-color: #E2EBFA;\n",
              "      --hover-fill-color: #174EA6;\n",
              "      --disabled-fill-color: #AAA;\n",
              "      --disabled-bg-color: #DDD;\n",
              "  }\n",
              "\n",
              "  [theme=dark] .colab-df-quickchart {\n",
              "      --bg-color: #3B4455;\n",
              "      --fill-color: #D2E3FC;\n",
              "      --hover-bg-color: #434B5C;\n",
              "      --hover-fill-color: #FFFFFF;\n",
              "      --disabled-bg-color: #3B4455;\n",
              "      --disabled-fill-color: #666;\n",
              "  }\n",
              "\n",
              "  .colab-df-quickchart {\n",
              "    background-color: var(--bg-color);\n",
              "    border: none;\n",
              "    border-radius: 50%;\n",
              "    cursor: pointer;\n",
              "    display: none;\n",
              "    fill: var(--fill-color);\n",
              "    height: 32px;\n",
              "    padding: 0;\n",
              "    width: 32px;\n",
              "  }\n",
              "\n",
              "  .colab-df-quickchart:hover {\n",
              "    background-color: var(--hover-bg-color);\n",
              "    box-shadow: 0 1px 2px rgba(60, 64, 67, 0.3), 0 1px 3px 1px rgba(60, 64, 67, 0.15);\n",
              "    fill: var(--button-hover-fill-color);\n",
              "  }\n",
              "\n",
              "  .colab-df-quickchart-complete:disabled,\n",
              "  .colab-df-quickchart-complete:disabled:hover {\n",
              "    background-color: var(--disabled-bg-color);\n",
              "    fill: var(--disabled-fill-color);\n",
              "    box-shadow: none;\n",
              "  }\n",
              "\n",
              "  .colab-df-spinner {\n",
              "    border: 2px solid var(--fill-color);\n",
              "    border-color: transparent;\n",
              "    border-bottom-color: var(--fill-color);\n",
              "    animation:\n",
              "      spin 1s steps(1) infinite;\n",
              "  }\n",
              "\n",
              "  @keyframes spin {\n",
              "    0% {\n",
              "      border-color: transparent;\n",
              "      border-bottom-color: var(--fill-color);\n",
              "      border-left-color: var(--fill-color);\n",
              "    }\n",
              "    20% {\n",
              "      border-color: transparent;\n",
              "      border-left-color: var(--fill-color);\n",
              "      border-top-color: var(--fill-color);\n",
              "    }\n",
              "    30% {\n",
              "      border-color: transparent;\n",
              "      border-left-color: var(--fill-color);\n",
              "      border-top-color: var(--fill-color);\n",
              "      border-right-color: var(--fill-color);\n",
              "    }\n",
              "    40% {\n",
              "      border-color: transparent;\n",
              "      border-right-color: var(--fill-color);\n",
              "      border-top-color: var(--fill-color);\n",
              "    }\n",
              "    60% {\n",
              "      border-color: transparent;\n",
              "      border-right-color: var(--fill-color);\n",
              "    }\n",
              "    80% {\n",
              "      border-color: transparent;\n",
              "      border-right-color: var(--fill-color);\n",
              "      border-bottom-color: var(--fill-color);\n",
              "    }\n",
              "    90% {\n",
              "      border-color: transparent;\n",
              "      border-bottom-color: var(--fill-color);\n",
              "    }\n",
              "  }\n",
              "</style>\n",
              "\n",
              "  <script>\n",
              "    async function quickchart(key) {\n",
              "      const quickchartButtonEl =\n",
              "        document.querySelector('#' + key + ' button');\n",
              "      quickchartButtonEl.disabled = true;  // To prevent multiple clicks.\n",
              "      quickchartButtonEl.classList.add('colab-df-spinner');\n",
              "      try {\n",
              "        const charts = await google.colab.kernel.invokeFunction(\n",
              "            'suggestCharts', [key], {});\n",
              "      } catch (error) {\n",
              "        console.error('Error during call to suggestCharts:', error);\n",
              "      }\n",
              "      quickchartButtonEl.classList.remove('colab-df-spinner');\n",
              "      quickchartButtonEl.classList.add('colab-df-quickchart-complete');\n",
              "    }\n",
              "    (() => {\n",
              "      let quickchartButtonEl =\n",
              "        document.querySelector('#df-46f85f07-eb02-4ba9-b0f5-cea5c9fd43a9 button');\n",
              "      quickchartButtonEl.style.display =\n",
              "        google.colab.kernel.accessAllowed ? 'block' : 'none';\n",
              "    })();\n",
              "  </script>\n",
              "</div>\n",
              "    </div>\n",
              "  </div>\n"
            ],
            "application/vnd.google.colaboratory.intrinsic+json": {
              "type": "dataframe",
              "variable_name": "twitter_df_01",
              "summary": "{\n  \"name\": \"twitter_df_01\",\n  \"rows\": 5052,\n  \"fields\": [\n    {\n      \"column\": \"text\",\n      \"properties\": {\n        \"dtype\": \"string\",\n        \"num_unique_values\": 5027,\n        \"samples\": [\n          \"@user May I suggest, that you have a meal that is made with beans, onions &amp; garlic, the day before class.\",\n          \"mom asked if i wanted acrylics &amp; i said 'no because you never know when someone gon let me tickle they pussy' she was deeply offended. lbvs\",\n          \"@user See you all October 8th. @user is ready to tear it up #keeptalkin #wreckinso #the40 #brandonmanitoba #country #rock #blues\"\n        ],\n        \"semantic_type\": \"\",\n        \"description\": \"\"\n      }\n    },\n    {\n      \"column\": \"label\",\n      \"properties\": {\n        \"dtype\": \"category\",\n        \"num_unique_values\": 4,\n        \"samples\": [\n          \"anger\",\n          \"sadness\",\n          \"optimism\"\n        ],\n        \"semantic_type\": \"\",\n        \"description\": \"\"\n      }\n    }\n  ]\n}"
            }
          },
          "metadata": {},
          "execution_count": 398
        }
      ],
      "source": [
        "twitter_df_01 = twitter_dataset_01.to_pandas()\n",
        "twitter_df_01['label'] = twitter_df_01['label'].astype('category')\n",
        "twitter_df_01['label'] = twitter_df_01['label'].cat.rename_categories({0: \"anger\", 1: \"joy\", 2: \"optimism\", 3: \"sadness\"})\n",
        "twitter_df_01\n"
      ]
    },
    {
      "cell_type": "markdown",
      "source": [
        "As can be seen from the barchart below, the data is not balanced, with a clear prevalence of \"anger\". However, the number of entries is much smaller than that of other datasets, and therefore it can be assumed that this will not unbalance the data."
      ],
      "metadata": {
        "id": "EXF8xZo8C5qP"
      }
    },
    {
      "cell_type": "code",
      "execution_count": 399,
      "metadata": {
        "colab": {
          "base_uri": "https://localhost:8080/",
          "height": 615
        },
        "id": "l2nlUsnv3Ew5",
        "outputId": "ea0ba8e7-4709-4231-dc17-a3bb491466d9"
      },
      "outputs": [
        {
          "output_type": "display_data",
          "data": {
            "text/plain": [
              "<Figure size 1000x600 with 1 Axes>"
            ],
            "image/png": "[encoded data removed]"
          },
          "metadata": {}
        }
      ],
      "source": [
        "emotions_count = twitter_df_01['label'].value_counts()\n",
        "\n",
        "# Plotting\n",
        "plt.figure(figsize=(10, 6))\n",
        "emotions_count.plot(kind='bar')\n",
        "plt.title('Distribution of Emotions in Dataset')\n",
        "plt.xlabel('Emotion')\n",
        "plt.ylabel('Frequency')\n",
        "plt.show()"
      ]
    },
    {
      "cell_type": "markdown",
      "metadata": {
        "id": "iPMCwaXx39bP"
      },
      "source": [
        "## Second Twitter Dataset Preprocessing"
      ]
    },
    {
      "cell_type": "markdown",
      "source": [
        "As in the example above, let us adjust categorical labels to be more descriptive."
      ],
      "metadata": {
        "id": "Y5RdE8_uMY1W"
      }
    },
    {
      "cell_type": "code",
      "execution_count": 400,
      "metadata": {
        "colab": {
          "base_uri": "https://localhost:8080/",
          "height": 423
        },
        "id": "mrlBYBGUXrvd",
        "outputId": "f7b9fa05-948d-486d-8d6a-f434c7aea330"
      },
      "outputs": [
        {
          "output_type": "execute_result",
          "data": {
            "text/plain": [
              "                                                     text    label\n",
              "0       i feel awful about it too because it s my job ...  sadness\n",
              "1                                   im alone i feel awful  sadness\n",
              "2       ive probably mentioned this before but i reall...      joy\n",
              "3                i was feeling a little low few days back  sadness\n",
              "4       i beleive that i am much more sensitive to oth...     love\n",
              "...                                                   ...      ...\n",
              "416804  that was what i felt when i was finally accept...      joy\n",
              "416805  i take every day as it comes i m just focussin...     fear\n",
              "416806      i just suddenly feel that everything was fake  sadness\n",
              "416807  im feeling more eager than ever to claw back w...      joy\n",
              "416808  i give you plenty of attention even when i fee...  sadness\n",
              "\n",
              "[416809 rows x 2 columns]"
            ],
            "text/html": [
              "\n",
              "  <div id=\"df-13c82412-b6b2-4f94-805d-62639c9d64bc\" class=\"colab-df-container\">\n",
              "    <div>\n",
              "<style scoped>\n",
              "    .dataframe tbody tr th:only-of-type {\n",
              "        vertical-align: middle;\n",
              "    }\n",
              "\n",
              "    .dataframe tbody tr th {\n",
              "        vertical-align: top;\n",
              "    }\n",
              "\n",
              "    .dataframe thead th {\n",
              "        text-align: right;\n",
              "    }\n",
              "</style>\n",
              "<table border=\"1\" class=\"dataframe\">\n",
              "  <thead>\n",
              "    <tr style=\"text-align: right;\">\n",
              "      <th></th>\n",
              "      <th>text</th>\n",
              "      <th>label</th>\n",
              "    </tr>\n",
              "  </thead>\n",
              "  <tbody>\n",
              "    <tr>\n",
              "      <th>0</th>\n",
              "      <td>i feel awful about it too because it s my job ...</td>\n",
              "      <td>sadness</td>\n",
              "    </tr>\n",
              "    <tr>\n",
              "      <th>1</th>\n",
              "      <td>im alone i feel awful</td>\n",
              "      <td>sadness</td>\n",
              "    </tr>\n",
              "    <tr>\n",
              "      <th>2</th>\n",
              "      <td>ive probably mentioned this before but i reall...</td>\n",
              "      <td>joy</td>\n",
              "    </tr>\n",
              "    <tr>\n",
              "      <th>3</th>\n",
              "      <td>i was feeling a little low few days back</td>\n",
              "      <td>sadness</td>\n",
              "    </tr>\n",
              "    <tr>\n",
              "      <th>4</th>\n",
              "      <td>i beleive that i am much more sensitive to oth...</td>\n",
              "      <td>love</td>\n",
              "    </tr>\n",
              "    <tr>\n",
              "      <th>...</th>\n",
              "      <td>...</td>\n",
              "      <td>...</td>\n",
              "    </tr>\n",
              "    <tr>\n",
              "      <th>416804</th>\n",
              "      <td>that was what i felt when i was finally accept...</td>\n",
              "      <td>joy</td>\n",
              "    </tr>\n",
              "    <tr>\n",
              "      <th>416805</th>\n",
              "      <td>i take every day as it comes i m just focussin...</td>\n",
              "      <td>fear</td>\n",
              "    </tr>\n",
              "    <tr>\n",
              "      <th>416806</th>\n",
              "      <td>i just suddenly feel that everything was fake</td>\n",
              "      <td>sadness</td>\n",
              "    </tr>\n",
              "    <tr>\n",
              "      <th>416807</th>\n",
              "      <td>im feeling more eager than ever to claw back w...</td>\n",
              "      <td>joy</td>\n",
              "    </tr>\n",
              "    <tr>\n",
              "      <th>416808</th>\n",
              "      <td>i give you plenty of attention even when i fee...</td>\n",
              "      <td>sadness</td>\n",
              "    </tr>\n",
              "  </tbody>\n",
              "</table>\n",
              "<p>416809 rows × 2 columns</p>\n",
              "</div>\n",
              "    <div class=\"colab-df-buttons\">\n",
              "\n",
              "  <div class=\"colab-df-container\">\n",
              "    <button class=\"colab-df-convert\" onclick=\"convertToInteractive('df-13c82412-b6b2-4f94-805d-62639c9d64bc')\"\n",
              "            title=\"Convert this dataframe to an interactive table.\"\n",
              "            style=\"display:none;\">\n",
              "\n",
              "  <svg xmlns=\"http://www.w3.org/2000/svg\" height=\"24px\" viewBox=\"0 -960 960 960\">\n",
              "    <path d=\"M120-120v-720h720v720H120Zm60-500h600v-160H180v160Zm220 220h160v-160H400v160Zm0 220h160v-160H400v160ZM180-400h160v-160H180v160Zm440 0h160v-160H620v160ZM180-180h160v-160H180v160Zm440 0h160v-160H620v160Z\"/>\n",
              "  </svg>\n",
              "    </button>\n",
              "\n",
              "  <style>\n",
              "    .colab-df-container {\n",
              "      display:flex;\n",
              "      gap: 12px;\n",
              "    }\n",
              "\n",
              "    .colab-df-convert {\n",
              "      background-color: #E8F0FE;\n",
              "      border: none;\n",
              "      border-radius: 50%;\n",
              "      cursor: pointer;\n",
              "      display: none;\n",
              "      fill: #1967D2;\n",
              "      height: 32px;\n",
              "      padding: 0 0 0 0;\n",
              "      width: 32px;\n",
              "    }\n",
              "\n",
              "    .colab-df-convert:hover {\n",
              "      background-color: #E2EBFA;\n",
              "      box-shadow: 0px 1px 2px rgba(60, 64, 67, 0.3), 0px 1px 3px 1px rgba(60, 64, 67, 0.15);\n",
              "      fill: #174EA6;\n",
              "    }\n",
              "\n",
              "    .colab-df-buttons div {\n",
              "      margin-bottom: 4px;\n",
              "    }\n",
              "\n",
              "    [theme=dark] .colab-df-convert {\n",
              "      background-color: #3B4455;\n",
              "      fill: #D2E3FC;\n",
              "    }\n",
              "\n",
              "    [theme=dark] .colab-df-convert:hover {\n",
              "      background-color: #434B5C;\n",
              "      box-shadow: 0px 1px 3px 1px rgba(0, 0, 0, 0.15);\n",
              "      filter: drop-shadow(0px 1px 2px rgba(0, 0, 0, 0.3));\n",
              "      fill: #FFFFFF;\n",
              "    }\n",
              "  </style>\n",
              "\n",
              "    <script>\n",
              "      const buttonEl =\n",
              "        document.querySelector('#df-13c82412-b6b2-4f94-805d-62639c9d64bc button.colab-df-convert');\n",
              "      buttonEl.style.display =\n",
              "        google.colab.kernel.accessAllowed ? 'block' : 'none';\n",
              "\n",
              "      async function convertToInteractive(key) {\n",
              "        const element = document.querySelector('#df-13c82412-b6b2-4f94-805d-62639c9d64bc');\n",
              "        const dataTable =\n",
              "          await google.colab.kernel.invokeFunction('convertToInteractive',\n",
              "                                                    [key], {});\n",
              "        if (!dataTable) return;\n",
              "\n",
              "        const docLinkHtml = 'Like what you see? Visit the ' +\n",
              "          '<a target=\"_blank\" href=https://colab.research.google.com/notebooks/data_table.ipynb>data table notebook</a>'\n",
              "          + ' to learn more about interactive tables.';\n",
              "        element.innerHTML = '';\n",
              "        dataTable['output_type'] = 'display_data';\n",
              "        await google.colab.output.renderOutput(dataTable, element);\n",
              "        const docLink = document.createElement('div');\n",
              "        docLink.innerHTML = docLinkHtml;\n",
              "        element.appendChild(docLink);\n",
              "      }\n",
              "    </script>\n",
              "  </div>\n",
              "\n",
              "\n",
              "<div id=\"df-a5aeeacf-ad07-4745-aeed-16727ede764d\">\n",
              "  <button class=\"colab-df-quickchart\" onclick=\"quickchart('df-a5aeeacf-ad07-4745-aeed-16727ede764d')\"\n",
              "            title=\"Suggest charts\"\n",
              "            style=\"display:none;\">\n",
              "\n",
              "<svg xmlns=\"http://www.w3.org/2000/svg\" height=\"24px\"viewBox=\"0 0 24 24\"\n",
              "     width=\"24px\">\n",
              "    <g>\n",
              "        <path d=\"M19 3H5c-1.1 0-2 .9-2 2v14c0 1.1.9 2 2 2h14c1.1 0 2-.9 2-2V5c0-1.1-.9-2-2-2zM9 17H7v-7h2v7zm4 0h-2V7h2v10zm4 0h-2v-4h2v4z\"/>\n",
              "    </g>\n",
              "</svg>\n",
              "  </button>\n",
              "\n",
              "<style>\n",
              "  .colab-df-quickchart {\n",
              "      --bg-color: #E8F0FE;\n",
              "      --fill-color: #1967D2;\n",
              "      --hover-bg-color: #E2EBFA;\n",
              "      --hover-fill-color: #174EA6;\n",
              "      --disabled-fill-color: #AAA;\n",
              "      --disabled-bg-color: #DDD;\n",
              "  }\n",
              "\n",
              "  [theme=dark] .colab-df-quickchart {\n",
              "      --bg-color: #3B4455;\n",
              "      --fill-color: #D2E3FC;\n",
              "      --hover-bg-color: #434B5C;\n",
              "      --hover-fill-color: #FFFFFF;\n",
              "      --disabled-bg-color: #3B4455;\n",
              "      --disabled-fill-color: #666;\n",
              "  }\n",
              "\n",
              "  .colab-df-quickchart {\n",
              "    background-color: var(--bg-color);\n",
              "    border: none;\n",
              "    border-radius: 50%;\n",
              "    cursor: pointer;\n",
              "    display: none;\n",
              "    fill: var(--fill-color);\n",
              "    height: 32px;\n",
              "    padding: 0;\n",
              "    width: 32px;\n",
              "  }\n",
              "\n",
              "  .colab-df-quickchart:hover {\n",
              "    background-color: var(--hover-bg-color);\n",
              "    box-shadow: 0 1px 2px rgba(60, 64, 67, 0.3), 0 1px 3px 1px rgba(60, 64, 67, 0.15);\n",
              "    fill: var(--button-hover-fill-color);\n",
              "  }\n",
              "\n",
              "  .colab-df-quickchart-complete:disabled,\n",
              "  .colab-df-quickchart-complete:disabled:hover {\n",
              "    background-color: var(--disabled-bg-color);\n",
              "    fill: var(--disabled-fill-color);\n",
              "    box-shadow: none;\n",
              "  }\n",
              "\n",
              "  .colab-df-spinner {\n",
              "    border: 2px solid var(--fill-color);\n",
              "    border-color: transparent;\n",
              "    border-bottom-color: var(--fill-color);\n",
              "    animation:\n",
              "      spin 1s steps(1) infinite;\n",
              "  }\n",
              "\n",
              "  @keyframes spin {\n",
              "    0% {\n",
              "      border-color: transparent;\n",
              "      border-bottom-color: var(--fill-color);\n",
              "      border-left-color: var(--fill-color);\n",
              "    }\n",
              "    20% {\n",
              "      border-color: transparent;\n",
              "      border-left-color: var(--fill-color);\n",
              "      border-top-color: var(--fill-color);\n",
              "    }\n",
              "    30% {\n",
              "      border-color: transparent;\n",
              "      border-left-color: var(--fill-color);\n",
              "      border-top-color: var(--fill-color);\n",
              "      border-right-color: var(--fill-color);\n",
              "    }\n",
              "    40% {\n",
              "      border-color: transparent;\n",
              "      border-right-color: var(--fill-color);\n",
              "      border-top-color: var(--fill-color);\n",
              "    }\n",
              "    60% {\n",
              "      border-color: transparent;\n",
              "      border-right-color: var(--fill-color);\n",
              "    }\n",
              "    80% {\n",
              "      border-color: transparent;\n",
              "      border-right-color: var(--fill-color);\n",
              "      border-bottom-color: var(--fill-color);\n",
              "    }\n",
              "    90% {\n",
              "      border-color: transparent;\n",
              "      border-bottom-color: var(--fill-color);\n",
              "    }\n",
              "  }\n",
              "</style>\n",
              "\n",
              "  <script>\n",
              "    async function quickchart(key) {\n",
              "      const quickchartButtonEl =\n",
              "        document.querySelector('#' + key + ' button');\n",
              "      quickchartButtonEl.disabled = true;  // To prevent multiple clicks.\n",
              "      quickchartButtonEl.classList.add('colab-df-spinner');\n",
              "      try {\n",
              "        const charts = await google.colab.kernel.invokeFunction(\n",
              "            'suggestCharts', [key], {});\n",
              "      } catch (error) {\n",
              "        console.error('Error during call to suggestCharts:', error);\n",
              "      }\n",
              "      quickchartButtonEl.classList.remove('colab-df-spinner');\n",
              "      quickchartButtonEl.classList.add('colab-df-quickchart-complete');\n",
              "    }\n",
              "    (() => {\n",
              "      let quickchartButtonEl =\n",
              "        document.querySelector('#df-a5aeeacf-ad07-4745-aeed-16727ede764d button');\n",
              "      quickchartButtonEl.style.display =\n",
              "        google.colab.kernel.accessAllowed ? 'block' : 'none';\n",
              "    })();\n",
              "  </script>\n",
              "</div>\n",
              "    </div>\n",
              "  </div>\n"
            ],
            "application/vnd.google.colaboratory.intrinsic+json": {
              "type": "dataframe",
              "variable_name": "twitter_df_02"
            }
          },
          "metadata": {},
          "execution_count": 400
        }
      ],
      "source": [
        "twitter_df_02 = twitter_dataset_02[\"train\"].to_pandas()\n",
        "twitter_df_02['label'] = twitter_df_02['label'].astype('category')\n",
        "twitter_df_02['label'] = twitter_df_02['label'].cat.rename_categories({0: \"sadness\", 1: \"joy\", 2: \"love\", 3: \"anger\", 4: \"fear\", 5: \"surprise\"})\n",
        "\n",
        "twitter_df_02"
      ]
    },
    {
      "cell_type": "markdown",
      "source": [
        "This dataset does not include a 'neutral' emotion and has a large number of entries, making it a valuable complement to the Reddit dataset."
      ],
      "metadata": {
        "id": "bEqABCD3Mhgg"
      }
    },
    {
      "cell_type": "code",
      "execution_count": 401,
      "metadata": {
        "colab": {
          "base_uri": "https://localhost:8080/",
          "height": 606
        },
        "id": "b0I12CjuEPrg",
        "outputId": "a2b0963f-ea78-41a1-f101-123de5fc3d2a"
      },
      "outputs": [
        {
          "output_type": "display_data",
          "data": {
            "text/plain": [
              "<Figure size 1000x600 with 1 Axes>"
            ],
            "image/png": "[encoded data removed]"
          },
          "metadata": {}
        }
      ],
      "source": [
        "emotions_count = twitter_df_02['label'].value_counts()\n",
        "\n",
        "# Plotting\n",
        "plt.figure(figsize=(10, 6))\n",
        "emotions_count.plot(kind='bar')\n",
        "plt.title('Distribution of Emotions in Dataset')\n",
        "plt.xlabel('Emotion')\n",
        "plt.ylabel('Frequency')\n",
        "plt.show()"
      ]
    },
    {
      "cell_type": "markdown",
      "metadata": {
        "id": "XvhfEJuUmAS0"
      },
      "source": [
        "# Dataset Preparation for NLP"
      ]
    },
    {
      "cell_type": "markdown",
      "metadata": {
        "id": "TV43clJfmPYs"
      },
      "source": [
        "Firstly, let's combine all 3 datasets together."
      ]
    },
    {
      "cell_type": "code",
      "execution_count": 402,
      "metadata": {
        "colab": {
          "base_uri": "https://localhost:8080/",
          "height": 423
        },
        "id": "IhiRYCsvXrvd",
        "outputId": "31343856-6230-422e-eb00-f662e314ec8e"
      },
      "outputs": [
        {
          "output_type": "execute_result",
          "data": {
            "text/plain": [
              "                                                     text       label\n",
              "0       “Worry is a down payment on a problem you may ...    optimism\n",
              "1       My roommate: it's okay that we can't spell bec...       anger\n",
              "2       No but that's so cute. Atsu was probably shy a...         joy\n",
              "3       Rooneys fucking untouchable isn't he? Been fuc...       anger\n",
              "4       it's pretty depressing when u hit pan on ur fa...     sadness\n",
              "...                                                   ...         ...\n",
              "171815  Well, I'm glad you're out of all that now. How...         joy\n",
              "171816                             Everyone likes [NAME].        love\n",
              "171817  Well when you’ve imported about a gazillion of...      caring\n",
              "171818                                 That looks amazing  admiration\n",
              "171819  The FDA has plenty to criticize. But like here...       anger\n",
              "\n",
              "[593681 rows x 2 columns]"
            ],
            "text/html": [
              "\n",
              "  <div id=\"df-d63f658c-684e-4153-bcb1-480f23d10d53\" class=\"colab-df-container\">\n",
              "    <div>\n",
              "<style scoped>\n",
              "    .dataframe tbody tr th:only-of-type {\n",
              "        vertical-align: middle;\n",
              "    }\n",
              "\n",
              "    .dataframe tbody tr th {\n",
              "        vertical-align: top;\n",
              "    }\n",
              "\n",
              "    .dataframe thead th {\n",
              "        text-align: right;\n",
              "    }\n",
              "</style>\n",
              "<table border=\"1\" class=\"dataframe\">\n",
              "  <thead>\n",
              "    <tr style=\"text-align: right;\">\n",
              "      <th></th>\n",
              "      <th>text</th>\n",
              "      <th>label</th>\n",
              "    </tr>\n",
              "  </thead>\n",
              "  <tbody>\n",
              "    <tr>\n",
              "      <th>0</th>\n",
              "      <td>“Worry is a down payment on a problem you may ...</td>\n",
              "      <td>optimism</td>\n",
              "    </tr>\n",
              "    <tr>\n",
              "      <th>1</th>\n",
              "      <td>My roommate: it's okay that we can't spell bec...</td>\n",
              "      <td>anger</td>\n",
              "    </tr>\n",
              "    <tr>\n",
              "      <th>2</th>\n",
              "      <td>No but that's so cute. Atsu was probably shy a...</td>\n",
              "      <td>joy</td>\n",
              "    </tr>\n",
              "    <tr>\n",
              "      <th>3</th>\n",
              "      <td>Rooneys fucking untouchable isn't he? Been fuc...</td>\n",
              "      <td>anger</td>\n",
              "    </tr>\n",
              "    <tr>\n",
              "      <th>4</th>\n",
              "      <td>it's pretty depressing when u hit pan on ur fa...</td>\n",
              "      <td>sadness</td>\n",
              "    </tr>\n",
              "    <tr>\n",
              "      <th>...</th>\n",
              "      <td>...</td>\n",
              "      <td>...</td>\n",
              "    </tr>\n",
              "    <tr>\n",
              "      <th>171815</th>\n",
              "      <td>Well, I'm glad you're out of all that now. How...</td>\n",
              "      <td>joy</td>\n",
              "    </tr>\n",
              "    <tr>\n",
              "      <th>171816</th>\n",
              "      <td>Everyone likes [NAME].</td>\n",
              "      <td>love</td>\n",
              "    </tr>\n",
              "    <tr>\n",
              "      <th>171817</th>\n",
              "      <td>Well when you’ve imported about a gazillion of...</td>\n",
              "      <td>caring</td>\n",
              "    </tr>\n",
              "    <tr>\n",
              "      <th>171818</th>\n",
              "      <td>That looks amazing</td>\n",
              "      <td>admiration</td>\n",
              "    </tr>\n",
              "    <tr>\n",
              "      <th>171819</th>\n",
              "      <td>The FDA has plenty to criticize. But like here...</td>\n",
              "      <td>anger</td>\n",
              "    </tr>\n",
              "  </tbody>\n",
              "</table>\n",
              "<p>593681 rows × 2 columns</p>\n",
              "</div>\n",
              "    <div class=\"colab-df-buttons\">\n",
              "\n",
              "  <div class=\"colab-df-container\">\n",
              "    <button class=\"colab-df-convert\" onclick=\"convertToInteractive('df-d63f658c-684e-4153-bcb1-480f23d10d53')\"\n",
              "            title=\"Convert this dataframe to an interactive table.\"\n",
              "            style=\"display:none;\">\n",
              "\n",
              "  <svg xmlns=\"http://www.w3.org/2000/svg\" height=\"24px\" viewBox=\"0 -960 960 960\">\n",
              "    <path d=\"M120-120v-720h720v720H120Zm60-500h600v-160H180v160Zm220 220h160v-160H400v160Zm0 220h160v-160H400v160ZM180-400h160v-160H180v160Zm440 0h160v-160H620v160ZM180-180h160v-160H180v160Zm440 0h160v-160H620v160Z\"/>\n",
              "  </svg>\n",
              "    </button>\n",
              "\n",
              "  <style>\n",
              "    .colab-df-container {\n",
              "      display:flex;\n",
              "      gap: 12px;\n",
              "    }\n",
              "\n",
              "    .colab-df-convert {\n",
              "      background-color: #E8F0FE;\n",
              "      border: none;\n",
              "      border-radius: 50%;\n",
              "      cursor: pointer;\n",
              "      display: none;\n",
              "      fill: #1967D2;\n",
              "      height: 32px;\n",
              "      padding: 0 0 0 0;\n",
              "      width: 32px;\n",
              "    }\n",
              "\n",
              "    .colab-df-convert:hover {\n",
              "      background-color: #E2EBFA;\n",
              "      box-shadow: 0px 1px 2px rgba(60, 64, 67, 0.3), 0px 1px 3px 1px rgba(60, 64, 67, 0.15);\n",
              "      fill: #174EA6;\n",
              "    }\n",
              "\n",
              "    .colab-df-buttons div {\n",
              "      margin-bottom: 4px;\n",
              "    }\n",
              "\n",
              "    [theme=dark] .colab-df-convert {\n",
              "      background-color: #3B4455;\n",
              "      fill: #D2E3FC;\n",
              "    }\n",
              "\n",
              "    [theme=dark] .colab-df-convert:hover {\n",
              "      background-color: #434B5C;\n",
              "      box-shadow: 0px 1px 3px 1px rgba(0, 0, 0, 0.15);\n",
              "      filter: drop-shadow(0px 1px 2px rgba(0, 0, 0, 0.3));\n",
              "      fill: #FFFFFF;\n",
              "    }\n",
              "  </style>\n",
              "\n",
              "    <script>\n",
              "      const buttonEl =\n",
              "        document.querySelector('#df-d63f658c-684e-4153-bcb1-480f23d10d53 button.colab-df-convert');\n",
              "      buttonEl.style.display =\n",
              "        google.colab.kernel.accessAllowed ? 'block' : 'none';\n",
              "\n",
              "      async function convertToInteractive(key) {\n",
              "        const element = document.querySelector('#df-d63f658c-684e-4153-bcb1-480f23d10d53');\n",
              "        const dataTable =\n",
              "          await google.colab.kernel.invokeFunction('convertToInteractive',\n",
              "                                                    [key], {});\n",
              "        if (!dataTable) return;\n",
              "\n",
              "        const docLinkHtml = 'Like what you see? Visit the ' +\n",
              "          '<a target=\"_blank\" href=https://colab.research.google.com/notebooks/data_table.ipynb>data table notebook</a>'\n",
              "          + ' to learn more about interactive tables.';\n",
              "        element.innerHTML = '';\n",
              "        dataTable['output_type'] = 'display_data';\n",
              "        await google.colab.output.renderOutput(dataTable, element);\n",
              "        const docLink = document.createElement('div');\n",
              "        docLink.innerHTML = docLinkHtml;\n",
              "        element.appendChild(docLink);\n",
              "      }\n",
              "    </script>\n",
              "  </div>\n",
              "\n",
              "\n",
              "<div id=\"df-ae000340-6388-44fe-9589-45be2e30446c\">\n",
              "  <button class=\"colab-df-quickchart\" onclick=\"quickchart('df-ae000340-6388-44fe-9589-45be2e30446c')\"\n",
              "            title=\"Suggest charts\"\n",
              "            style=\"display:none;\">\n",
              "\n",
              "<svg xmlns=\"http://www.w3.org/2000/svg\" height=\"24px\"viewBox=\"0 0 24 24\"\n",
              "     width=\"24px\">\n",
              "    <g>\n",
              "        <path d=\"M19 3H5c-1.1 0-2 .9-2 2v14c0 1.1.9 2 2 2h14c1.1 0 2-.9 2-2V5c0-1.1-.9-2-2-2zM9 17H7v-7h2v7zm4 0h-2V7h2v10zm4 0h-2v-4h2v4z\"/>\n",
              "    </g>\n",
              "</svg>\n",
              "  </button>\n",
              "\n",
              "<style>\n",
              "  .colab-df-quickchart {\n",
              "      --bg-color: #E8F0FE;\n",
              "      --fill-color: #1967D2;\n",
              "      --hover-bg-color: #E2EBFA;\n",
              "      --hover-fill-color: #174EA6;\n",
              "      --disabled-fill-color: #AAA;\n",
              "      --disabled-bg-color: #DDD;\n",
              "  }\n",
              "\n",
              "  [theme=dark] .colab-df-quickchart {\n",
              "      --bg-color: #3B4455;\n",
              "      --fill-color: #D2E3FC;\n",
              "      --hover-bg-color: #434B5C;\n",
              "      --hover-fill-color: #FFFFFF;\n",
              "      --disabled-bg-color: #3B4455;\n",
              "      --disabled-fill-color: #666;\n",
              "  }\n",
              "\n",
              "  .colab-df-quickchart {\n",
              "    background-color: var(--bg-color);\n",
              "    border: none;\n",
              "    border-radius: 50%;\n",
              "    cursor: pointer;\n",
              "    display: none;\n",
              "    fill: var(--fill-color);\n",
              "    height: 32px;\n",
              "    padding: 0;\n",
              "    width: 32px;\n",
              "  }\n",
              "\n",
              "  .colab-df-quickchart:hover {\n",
              "    background-color: var(--hover-bg-color);\n",
              "    box-shadow: 0 1px 2px rgba(60, 64, 67, 0.3), 0 1px 3px 1px rgba(60, 64, 67, 0.15);\n",
              "    fill: var(--button-hover-fill-color);\n",
              "  }\n",
              "\n",
              "  .colab-df-quickchart-complete:disabled,\n",
              "  .colab-df-quickchart-complete:disabled:hover {\n",
              "    background-color: var(--disabled-bg-color);\n",
              "    fill: var(--disabled-fill-color);\n",
              "    box-shadow: none;\n",
              "  }\n",
              "\n",
              "  .colab-df-spinner {\n",
              "    border: 2px solid var(--fill-color);\n",
              "    border-color: transparent;\n",
              "    border-bottom-color: var(--fill-color);\n",
              "    animation:\n",
              "      spin 1s steps(1) infinite;\n",
              "  }\n",
              "\n",
              "  @keyframes spin {\n",
              "    0% {\n",
              "      border-color: transparent;\n",
              "      border-bottom-color: var(--fill-color);\n",
              "      border-left-color: var(--fill-color);\n",
              "    }\n",
              "    20% {\n",
              "      border-color: transparent;\n",
              "      border-left-color: var(--fill-color);\n",
              "      border-top-color: var(--fill-color);\n",
              "    }\n",
              "    30% {\n",
              "      border-color: transparent;\n",
              "      border-left-color: var(--fill-color);\n",
              "      border-top-color: var(--fill-color);\n",
              "      border-right-color: var(--fill-color);\n",
              "    }\n",
              "    40% {\n",
              "      border-color: transparent;\n",
              "      border-right-color: var(--fill-color);\n",
              "      border-top-color: var(--fill-color);\n",
              "    }\n",
              "    60% {\n",
              "      border-color: transparent;\n",
              "      border-right-color: var(--fill-color);\n",
              "    }\n",
              "    80% {\n",
              "      border-color: transparent;\n",
              "      border-right-color: var(--fill-color);\n",
              "      border-bottom-color: var(--fill-color);\n",
              "    }\n",
              "    90% {\n",
              "      border-color: transparent;\n",
              "      border-bottom-color: var(--fill-color);\n",
              "    }\n",
              "  }\n",
              "</style>\n",
              "\n",
              "  <script>\n",
              "    async function quickchart(key) {\n",
              "      const quickchartButtonEl =\n",
              "        document.querySelector('#' + key + ' button');\n",
              "      quickchartButtonEl.disabled = true;  // To prevent multiple clicks.\n",
              "      quickchartButtonEl.classList.add('colab-df-spinner');\n",
              "      try {\n",
              "        const charts = await google.colab.kernel.invokeFunction(\n",
              "            'suggestCharts', [key], {});\n",
              "      } catch (error) {\n",
              "        console.error('Error during call to suggestCharts:', error);\n",
              "      }\n",
              "      quickchartButtonEl.classList.remove('colab-df-spinner');\n",
              "      quickchartButtonEl.classList.add('colab-df-quickchart-complete');\n",
              "    }\n",
              "    (() => {\n",
              "      let quickchartButtonEl =\n",
              "        document.querySelector('#df-ae000340-6388-44fe-9589-45be2e30446c button');\n",
              "      quickchartButtonEl.style.display =\n",
              "        google.colab.kernel.accessAllowed ? 'block' : 'none';\n",
              "    })();\n",
              "  </script>\n",
              "</div>\n",
              "    </div>\n",
              "  </div>\n"
            ],
            "application/vnd.google.colaboratory.intrinsic+json": {
              "type": "dataframe",
              "variable_name": "emotion_df"
            }
          },
          "metadata": {},
          "execution_count": 402
        }
      ],
      "source": [
        "emotion_df = pd.concat([twitter_df_01, twitter_df_02, reddit_emotion_dataset])\n",
        "emotion_df"
      ]
    },
    {
      "cell_type": "markdown",
      "metadata": {
        "id": "J3sKTpDm6W-C"
      },
      "source": [
        "## Visualizing and Balancing the Data"
      ]
    },
    {
      "cell_type": "code",
      "execution_count": 403,
      "metadata": {
        "colab": {
          "base_uri": "https://localhost:8080/",
          "height": 568
        },
        "id": "G30vOI6uXrvd",
        "outputId": "a26e4527-2c0f-4eed-ba6a-fcdf7fe92504"
      },
      "outputs": [
        {
          "output_type": "display_data",
          "data": {
            "text/plain": [
              "<Figure size 640x480 with 1 Axes>"
            ],
            "image/png": "[encoded data removed]"
          },
          "metadata": {}
        }
      ],
      "source": [
        "emotions_count = emotion_df['label'].value_counts()\n",
        "\n",
        "emotions_count.plot(kind='bar')\n",
        "plt.title('Distribution of Feature')\n",
        "plt.xlabel('Value')\n",
        "plt.ylabel('Frequency')\n",
        "plt.show()"
      ]
    },
    {
      "cell_type": "markdown",
      "metadata": {
        "id": "n0veW8PKmU3P"
      },
      "source": [
        "The plot above highlights a strong prevalence of basic emotions such as 'joy', 'sadness', 'anger', 'fear', 'love', 'surprise', and 'neutral'.\n",
        "\n",
        "Given our goal of providing a single, distinct emotion as the model output, we'll simplify our dataset to include only these core emotions. This approach should enhance the model's accuracy.\n",
        "\n"
      ]
    },
    {
      "cell_type": "code",
      "execution_count": 404,
      "metadata": {
        "colab": {
          "base_uri": "https://localhost:8080/",
          "height": 423
        },
        "id": "RukqOL_aXrvd",
        "outputId": "6fa20258-f424-492f-e0d9-5c84906d40b1"
      },
      "outputs": [
        {
          "output_type": "execute_result",
          "data": {
            "text/plain": [
              "                                                     text     label\n",
              "0               i feel troubled by a lot of stuffs lately   sadness\n",
              "1       i feel that we are all once again invigorated ...       joy\n",
              "2       Only married once so can't be that bad. Not th...   neutral\n",
              "3                             i feel like i m heartbroken   sadness\n",
              "4       i feel like a greedy little traitor i m lookin...     anger\n",
              "...                                                   ...       ...\n",
              "500274         i was feeling a lot more gloomy than usual   sadness\n",
              "500275  I'm sorry. I hope he takes the CTJ talk seriou...  surprise\n",
              "500276                  i feel like im abused emotionally   sadness\n",
              "500277  i feel a bit gloomy this time of year as i wai...   sadness\n",
              "500278  @user appointment booked between 1-6 today, wa...     anger\n",
              "\n",
              "[500279 rows x 2 columns]"
            ],
            "text/html": [
              "\n",
              "  <div id=\"df-22192a10-a9f0-484c-8c58-1a0170095cdc\" class=\"colab-df-container\">\n",
              "    <div>\n",
              "<style scoped>\n",
              "    .dataframe tbody tr th:only-of-type {\n",
              "        vertical-align: middle;\n",
              "    }\n",
              "\n",
              "    .dataframe tbody tr th {\n",
              "        vertical-align: top;\n",
              "    }\n",
              "\n",
              "    .dataframe thead th {\n",
              "        text-align: right;\n",
              "    }\n",
              "</style>\n",
              "<table border=\"1\" class=\"dataframe\">\n",
              "  <thead>\n",
              "    <tr style=\"text-align: right;\">\n",
              "      <th></th>\n",
              "      <th>text</th>\n",
              "      <th>label</th>\n",
              "    </tr>\n",
              "  </thead>\n",
              "  <tbody>\n",
              "    <tr>\n",
              "      <th>0</th>\n",
              "      <td>i feel troubled by a lot of stuffs lately</td>\n",
              "      <td>sadness</td>\n",
              "    </tr>\n",
              "    <tr>\n",
              "      <th>1</th>\n",
              "      <td>i feel that we are all once again invigorated ...</td>\n",
              "      <td>joy</td>\n",
              "    </tr>\n",
              "    <tr>\n",
              "      <th>2</th>\n",
              "      <td>Only married once so can't be that bad. Not th...</td>\n",
              "      <td>neutral</td>\n",
              "    </tr>\n",
              "    <tr>\n",
              "      <th>3</th>\n",
              "      <td>i feel like i m heartbroken</td>\n",
              "      <td>sadness</td>\n",
              "    </tr>\n",
              "    <tr>\n",
              "      <th>4</th>\n",
              "      <td>i feel like a greedy little traitor i m lookin...</td>\n",
              "      <td>anger</td>\n",
              "    </tr>\n",
              "    <tr>\n",
              "      <th>...</th>\n",
              "      <td>...</td>\n",
              "      <td>...</td>\n",
              "    </tr>\n",
              "    <tr>\n",
              "      <th>500274</th>\n",
              "      <td>i was feeling a lot more gloomy than usual</td>\n",
              "      <td>sadness</td>\n",
              "    </tr>\n",
              "    <tr>\n",
              "      <th>500275</th>\n",
              "      <td>I'm sorry. I hope he takes the CTJ talk seriou...</td>\n",
              "      <td>surprise</td>\n",
              "    </tr>\n",
              "    <tr>\n",
              "      <th>500276</th>\n",
              "      <td>i feel like im abused emotionally</td>\n",
              "      <td>sadness</td>\n",
              "    </tr>\n",
              "    <tr>\n",
              "      <th>500277</th>\n",
              "      <td>i feel a bit gloomy this time of year as i wai...</td>\n",
              "      <td>sadness</td>\n",
              "    </tr>\n",
              "    <tr>\n",
              "      <th>500278</th>\n",
              "      <td>@user appointment booked between 1-6 today, wa...</td>\n",
              "      <td>anger</td>\n",
              "    </tr>\n",
              "  </tbody>\n",
              "</table>\n",
              "<p>500279 rows × 2 columns</p>\n",
              "</div>\n",
              "    <div class=\"colab-df-buttons\">\n",
              "\n",
              "  <div class=\"colab-df-container\">\n",
              "    <button class=\"colab-df-convert\" onclick=\"convertToInteractive('df-22192a10-a9f0-484c-8c58-1a0170095cdc')\"\n",
              "            title=\"Convert this dataframe to an interactive table.\"\n",
              "            style=\"display:none;\">\n",
              "\n",
              "  <svg xmlns=\"http://www.w3.org/2000/svg\" height=\"24px\" viewBox=\"0 -960 960 960\">\n",
              "    <path d=\"M120-120v-720h720v720H120Zm60-500h600v-160H180v160Zm220 220h160v-160H400v160Zm0 220h160v-160H400v160ZM180-400h160v-160H180v160Zm440 0h160v-160H620v160ZM180-180h160v-160H180v160Zm440 0h160v-160H620v160Z\"/>\n",
              "  </svg>\n",
              "    </button>\n",
              "\n",
              "  <style>\n",
              "    .colab-df-container {\n",
              "      display:flex;\n",
              "      gap: 12px;\n",
              "    }\n",
              "\n",
              "    .colab-df-convert {\n",
              "      background-color: #E8F0FE;\n",
              "      border: none;\n",
              "      border-radius: 50%;\n",
              "      cursor: pointer;\n",
              "      display: none;\n",
              "      fill: #1967D2;\n",
              "      height: 32px;\n",
              "      padding: 0 0 0 0;\n",
              "      width: 32px;\n",
              "    }\n",
              "\n",
              "    .colab-df-convert:hover {\n",
              "      background-color: #E2EBFA;\n",
              "      box-shadow: 0px 1px 2px rgba(60, 64, 67, 0.3), 0px 1px 3px 1px rgba(60, 64, 67, 0.15);\n",
              "      fill: #174EA6;\n",
              "    }\n",
              "\n",
              "    .colab-df-buttons div {\n",
              "      margin-bottom: 4px;\n",
              "    }\n",
              "\n",
              "    [theme=dark] .colab-df-convert {\n",
              "      background-color: #3B4455;\n",
              "      fill: #D2E3FC;\n",
              "    }\n",
              "\n",
              "    [theme=dark] .colab-df-convert:hover {\n",
              "      background-color: #434B5C;\n",
              "      box-shadow: 0px 1px 3px 1px rgba(0, 0, 0, 0.15);\n",
              "      filter: drop-shadow(0px 1px 2px rgba(0, 0, 0, 0.3));\n",
              "      fill: #FFFFFF;\n",
              "    }\n",
              "  </style>\n",
              "\n",
              "    <script>\n",
              "      const buttonEl =\n",
              "        document.querySelector('#df-22192a10-a9f0-484c-8c58-1a0170095cdc button.colab-df-convert');\n",
              "      buttonEl.style.display =\n",
              "        google.colab.kernel.accessAllowed ? 'block' : 'none';\n",
              "\n",
              "      async function convertToInteractive(key) {\n",
              "        const element = document.querySelector('#df-22192a10-a9f0-484c-8c58-1a0170095cdc');\n",
              "        const dataTable =\n",
              "          await google.colab.kernel.invokeFunction('convertToInteractive',\n",
              "                                                    [key], {});\n",
              "        if (!dataTable) return;\n",
              "\n",
              "        const docLinkHtml = 'Like what you see? Visit the ' +\n",
              "          '<a target=\"_blank\" href=https://colab.research.google.com/notebooks/data_table.ipynb>data table notebook</a>'\n",
              "          + ' to learn more about interactive tables.';\n",
              "        element.innerHTML = '';\n",
              "        dataTable['output_type'] = 'display_data';\n",
              "        await google.colab.output.renderOutput(dataTable, element);\n",
              "        const docLink = document.createElement('div');\n",
              "        docLink.innerHTML = docLinkHtml;\n",
              "        element.appendChild(docLink);\n",
              "      }\n",
              "    </script>\n",
              "  </div>\n",
              "\n",
              "\n",
              "<div id=\"df-d29f35bf-89a7-4b5e-a92c-04a699a1675c\">\n",
              "  <button class=\"colab-df-quickchart\" onclick=\"quickchart('df-d29f35bf-89a7-4b5e-a92c-04a699a1675c')\"\n",
              "            title=\"Suggest charts\"\n",
              "            style=\"display:none;\">\n",
              "\n",
              "<svg xmlns=\"http://www.w3.org/2000/svg\" height=\"24px\"viewBox=\"0 0 24 24\"\n",
              "     width=\"24px\">\n",
              "    <g>\n",
              "        <path d=\"M19 3H5c-1.1 0-2 .9-2 2v14c0 1.1.9 2 2 2h14c1.1 0 2-.9 2-2V5c0-1.1-.9-2-2-2zM9 17H7v-7h2v7zm4 0h-2V7h2v10zm4 0h-2v-4h2v4z\"/>\n",
              "    </g>\n",
              "</svg>\n",
              "  </button>\n",
              "\n",
              "<style>\n",
              "  .colab-df-quickchart {\n",
              "      --bg-color: #E8F0FE;\n",
              "      --fill-color: #1967D2;\n",
              "      --hover-bg-color: #E2EBFA;\n",
              "      --hover-fill-color: #174EA6;\n",
              "      --disabled-fill-color: #AAA;\n",
              "      --disabled-bg-color: #DDD;\n",
              "  }\n",
              "\n",
              "  [theme=dark] .colab-df-quickchart {\n",
              "      --bg-color: #3B4455;\n",
              "      --fill-color: #D2E3FC;\n",
              "      --hover-bg-color: #434B5C;\n",
              "      --hover-fill-color: #FFFFFF;\n",
              "      --disabled-bg-color: #3B4455;\n",
              "      --disabled-fill-color: #666;\n",
              "  }\n",
              "\n",
              "  .colab-df-quickchart {\n",
              "    background-color: var(--bg-color);\n",
              "    border: none;\n",
              "    border-radius: 50%;\n",
              "    cursor: pointer;\n",
              "    display: none;\n",
              "    fill: var(--fill-color);\n",
              "    height: 32px;\n",
              "    padding: 0;\n",
              "    width: 32px;\n",
              "  }\n",
              "\n",
              "  .colab-df-quickchart:hover {\n",
              "    background-color: var(--hover-bg-color);\n",
              "    box-shadow: 0 1px 2px rgba(60, 64, 67, 0.3), 0 1px 3px 1px rgba(60, 64, 67, 0.15);\n",
              "    fill: var(--button-hover-fill-color);\n",
              "  }\n",
              "\n",
              "  .colab-df-quickchart-complete:disabled,\n",
              "  .colab-df-quickchart-complete:disabled:hover {\n",
              "    background-color: var(--disabled-bg-color);\n",
              "    fill: var(--disabled-fill-color);\n",
              "    box-shadow: none;\n",
              "  }\n",
              "\n",
              "  .colab-df-spinner {\n",
              "    border: 2px solid var(--fill-color);\n",
              "    border-color: transparent;\n",
              "    border-bottom-color: var(--fill-color);\n",
              "    animation:\n",
              "      spin 1s steps(1) infinite;\n",
              "  }\n",
              "\n",
              "  @keyframes spin {\n",
              "    0% {\n",
              "      border-color: transparent;\n",
              "      border-bottom-color: var(--fill-color);\n",
              "      border-left-color: var(--fill-color);\n",
              "    }\n",
              "    20% {\n",
              "      border-color: transparent;\n",
              "      border-left-color: var(--fill-color);\n",
              "      border-top-color: var(--fill-color);\n",
              "    }\n",
              "    30% {\n",
              "      border-color: transparent;\n",
              "      border-left-color: var(--fill-color);\n",
              "      border-top-color: var(--fill-color);\n",
              "      border-right-color: var(--fill-color);\n",
              "    }\n",
              "    40% {\n",
              "      border-color: transparent;\n",
              "      border-right-color: var(--fill-color);\n",
              "      border-top-color: var(--fill-color);\n",
              "    }\n",
              "    60% {\n",
              "      border-color: transparent;\n",
              "      border-right-color: var(--fill-color);\n",
              "    }\n",
              "    80% {\n",
              "      border-color: transparent;\n",
              "      border-right-color: var(--fill-color);\n",
              "      border-bottom-color: var(--fill-color);\n",
              "    }\n",
              "    90% {\n",
              "      border-color: transparent;\n",
              "      border-bottom-color: var(--fill-color);\n",
              "    }\n",
              "  }\n",
              "</style>\n",
              "\n",
              "  <script>\n",
              "    async function quickchart(key) {\n",
              "      const quickchartButtonEl =\n",
              "        document.querySelector('#' + key + ' button');\n",
              "      quickchartButtonEl.disabled = true;  // To prevent multiple clicks.\n",
              "      quickchartButtonEl.classList.add('colab-df-spinner');\n",
              "      try {\n",
              "        const charts = await google.colab.kernel.invokeFunction(\n",
              "            'suggestCharts', [key], {});\n",
              "      } catch (error) {\n",
              "        console.error('Error during call to suggestCharts:', error);\n",
              "      }\n",
              "      quickchartButtonEl.classList.remove('colab-df-spinner');\n",
              "      quickchartButtonEl.classList.add('colab-df-quickchart-complete');\n",
              "    }\n",
              "    (() => {\n",
              "      let quickchartButtonEl =\n",
              "        document.querySelector('#df-d29f35bf-89a7-4b5e-a92c-04a699a1675c button');\n",
              "      quickchartButtonEl.style.display =\n",
              "        google.colab.kernel.accessAllowed ? 'block' : 'none';\n",
              "    })();\n",
              "  </script>\n",
              "</div>\n",
              "    </div>\n",
              "  </div>\n"
            ],
            "application/vnd.google.colaboratory.intrinsic+json": {
              "type": "dataframe",
              "variable_name": "emotion_df"
            }
          },
          "metadata": {},
          "execution_count": 404
        }
      ],
      "source": [
        "emotion_df = emotion_df[emotion_df.label.isin([\"text\", \"joy\", \"sadness\", \"anger\", \"neutral\", \"fear\", \"love\", \"surprise\"])]\n",
        "emotion_df = shuffle(emotion_df).reset_index(drop=True)\n",
        "emotion_df"
      ]
    },
    {
      "cell_type": "code",
      "execution_count": 405,
      "metadata": {
        "colab": {
          "base_uri": "https://localhost:8080/",
          "height": 514
        },
        "id": "nK-8H7bmXrvd",
        "outputId": "2e0d84ab-a343-44c2-989c-f5cae26ccf0b"
      },
      "outputs": [
        {
          "output_type": "display_data",
          "data": {
            "text/plain": [
              "<Figure size 640x480 with 1 Axes>"
            ],
            "image/png": "[encoded data removed]"
          },
          "metadata": {}
        }
      ],
      "source": [
        "emotions_count = emotion_df['label'].value_counts()\n",
        "\n",
        "emotions_count.plot(kind='bar')\n",
        "plt.title('Distribution of Feature')\n",
        "plt.xlabel('Value')\n",
        "plt.ylabel('Frequency')\n",
        "plt.show()"
      ]
    },
    {
      "cell_type": "markdown",
      "source": [
        "### Undersampling"
      ],
      "metadata": {
        "id": "nqno6q7WbxEW"
      }
    },
    {
      "cell_type": "markdown",
      "source": [
        "In order to achieve a balanced dataset, it is first necessary to employ an undersampling technique. As the data frame has already been shuffled in the previous step, let's simply retain the first 50k samples.\n",
        "\n",
        "The 50,000 sample size has been chosen as it is both sufficient for the model to be trained on and minimises the need for oversampling techniques in next steps."
      ],
      "metadata": {
        "id": "eYQVtQACZ-Ar"
      }
    },
    {
      "cell_type": "code",
      "execution_count": 406,
      "metadata": {
        "id": "XOyIKOTYuMQZ"
      },
      "outputs": [],
      "source": [
        "SAMPLES_PER_CLASS = 50000\n",
        "emotion_df = emotion_df.groupby('label').apply(lambda x: x.sample(SAMPLES_PER_CLASS) if len(x) > SAMPLES_PER_CLASS else x)\n",
        "emotion_df = emotion_df.sample(frac=1).reset_index(drop=True)\n",
        "emotion_df = emotion_df.dropna()"
      ]
    },
    {
      "cell_type": "markdown",
      "source": [
        "### Oversampling"
      ],
      "metadata": {
        "id": "rWFncKwybptM"
      }
    },
    {
      "cell_type": "code",
      "source": [
        "all_surprise = emotion_df.loc[emotion_df['label'] == \"surprise\"]\n",
        "all_surprise.reset_index(inplace=True, drop=True)\n",
        "\n",
        "for i in range(6):\n",
        "  random_sample = all_surprise.sample(3500)\n",
        "  emotion_df = pd.concat([emotion_df, random_sample])\n",
        "\n",
        "all_love = emotion_df.loc[emotion_df['label'] == \"love\"]\n",
        "all_love.reset_index(inplace=True, drop=True)\n",
        "\n",
        "random_sample = all_love.sample(3500)\n",
        "emotion_df = pd.concat([emotion_df, random_sample])"
      ],
      "metadata": {
        "id": "BG_0Q-Jpciz8"
      },
      "execution_count": 407,
      "outputs": []
    },
    {
      "cell_type": "code",
      "source": [
        "emotion_df.reset_index(inplace=True, drop=True)"
      ],
      "metadata": {
        "id": "MKr4lOrPnOxb"
      },
      "execution_count": 408,
      "outputs": []
    },
    {
      "cell_type": "code",
      "source": [
        "emotions_count = emotion_df['label'].value_counts()\n",
        "\n",
        "emotions_count.plot(kind='bar')\n",
        "plt.title('Distribution of Feature')\n",
        "plt.xlabel('Value')\n",
        "plt.ylabel('Frequency')\n",
        "plt.show()"
      ],
      "metadata": {
        "colab": {
          "base_uri": "https://localhost:8080/",
          "height": 514
        },
        "id": "EoPefKyKjxbd",
        "outputId": "71f5464e-82a0-48ac-9000-aa4b08e60e58"
      },
      "execution_count": 409,
      "outputs": [
        {
          "output_type": "display_data",
          "data": {
            "text/plain": [
              "<Figure size 640x480 with 1 Axes>"
            ],
            "image/png": "[encoded data removed]"
          },
          "metadata": {}
        }
      ]
    },
    {
      "cell_type": "markdown",
      "metadata": {
        "id": "DFrxqort6gGK"
      },
      "source": [
        "## Preprocess Text"
      ]
    },
    {
      "cell_type": "markdown",
      "source": [
        "Firstly, it is important to lowercase the data."
      ],
      "metadata": {
        "id": "mYu2-NoEcFGn"
      }
    },
    {
      "cell_type": "code",
      "execution_count": 410,
      "metadata": {
        "id": "Tq3lPhI_Xrvd"
      },
      "outputs": [],
      "source": [
        "emotion_df['text']=emotion_df['text'].str.lower()"
      ]
    },
    {
      "cell_type": "code",
      "execution_count": 411,
      "metadata": {
        "id": "JhFyoXcm3dEt"
      },
      "outputs": [],
      "source": [
        "def expand_contractions(data):\n",
        "  return contractions.fix(data)\n",
        "\n",
        "def preprocess_spaces(data):\n",
        "    return re.sub(' t ', '\\'t ', data)\n",
        "\n",
        "emotion_df['text']= emotion_df['text'].apply(lambda x: preprocess_spaces(x))\n",
        "emotion_df['text']= emotion_df['text'].apply(lambda x: expand_contractions(x))"
      ]
    },
    {
      "cell_type": "code",
      "execution_count": 412,
      "metadata": {
        "id": "Vf4_s7TJaX9w"
      },
      "outputs": [],
      "source": [
        "retain_words = {'not', 'no', 'nor', \"don't\", \"aren't\", \"couldn't\", \"didn't\", \"doesn't\", \"hadn't\",\n",
        "                \"hasn't\", \"haven't\", \"isn't\", \"mustn't\", \"needn't\", \"shan't\", \"shouldn't\", \"wasn't\",\n",
        "                \"weren't\", \"won't\", \"wouldn't\", \"but\", \"didn\", \"mightn't\", \"against\", \"wouldn\", \"weren\", \"aren\",\n",
        "                \"ain\", \"won\", \"t\", \"s\", \"needn\", \"couldn\", \"d\", \"doesn\", \"don\",  'should', \"should've\",'shouldn', \"over\"}\n",
        "\n",
        "stopwords_set = set(stopwords.words('english')) - retain_words"
      ]
    },
    {
      "cell_type": "code",
      "execution_count": 413,
      "metadata": {
        "id": "DZH4quyaXrvd"
      },
      "outputs": [],
      "source": [
        "def cleaning_email(data):\n",
        "    return re.sub('@[^\\s]+', '', data)\n",
        "\n",
        "def cleaning_numbers(data):\n",
        "    return re.sub('[0-9]+', '', data)\n",
        "\n",
        "def cleaning_apostrophs(data):\n",
        "    return re.sub('\\'', '', data)\n",
        "\n",
        "def cleaning_URLs(data):\n",
        "    return re.sub('((www\\.[^\\s]+)|(https?://[^\\s]+))','', data)\n",
        "\n",
        "emotion_df['text']=emotion_df['text'].apply(lambda x: cleaning_email(x))\n",
        "emotion_df['text']=emotion_df['text'].apply(lambda x: cleaning_numbers(x))\n",
        "emotion_df['text']=emotion_df['text'].apply(lambda x: cleaning_URLs(x))\n",
        "emotion_df['text']=emotion_df['text'].apply(lambda x: cleaning_apostrophs(x))\n",
        "\n",
        "emotion_df['text'] = emotion_df['text'].str.replace(r'\\s+', ' ', regex=True)\n"
      ]
    },
    {
      "cell_type": "code",
      "execution_count": 414,
      "metadata": {
        "id": "INLYlPYjb74T"
      },
      "outputs": [],
      "source": [
        "def remove_stopwords(data):\n",
        "  data = re.split(r\"(\\s+)\", data)\n",
        "  output_data = \"\"\n",
        "  for word in data:\n",
        "    if word in stopwords_set:\n",
        "      output_data = output_data\n",
        "    else:\n",
        "      output_data += word\n",
        "\n",
        "  return output_data.strip()"
      ]
    },
    {
      "cell_type": "code",
      "execution_count": 415,
      "metadata": {
        "id": "LFaQecA3a5PU"
      },
      "outputs": [],
      "source": [
        "def cleaning_punct(data):\n",
        "    punct_to_remove = string.punctuation.replace('!', '').replace('?', '')\n",
        "    pattern = f\"[{re.escape(punct_to_remove)}]\"\n",
        "    return re.sub(pattern, '', data)\n",
        "\n",
        "emotion_df['text']= emotion_df['text'].apply(lambda x: cleaning_punct(x))"
      ]
    },
    {
      "cell_type": "markdown",
      "metadata": {
        "id": "Cs4pg6mAvDSD"
      },
      "source": [
        "https://towardsdatascience.com/increasing-accuracy-of-sentiment-classification-using-negation-handling-9ed6dca91f53"
      ]
    },
    {
      "cell_type": "code",
      "execution_count": 416,
      "metadata": {
        "id": "ZqfovEcroPeR"
      },
      "outputs": [],
      "source": [
        "non_negatable_pos = {'VB', 'VBD', 'VBG', 'VBN', 'VBP', 'VBZ', 'MD'}\n",
        "\n",
        "\n",
        "def negate_sentence(sentence):\n",
        "    words = nltk.word_tokenize(sentence)\n",
        "\n",
        "    temp = 0\n",
        "    i = 1  # start from 1 to safely check the previous word for negations\n",
        "\n",
        "    # Process each word in the sentence\n",
        "    while i < len(words):\n",
        "        word = words[i-1]\n",
        "        word_pos = nltk.pos_tag(word_tokenize(word))[0][1]\n",
        "\n",
        "        if (word in ['not']) and (word_pos not in non_negatable_pos):\n",
        "            antonyms = []\n",
        "            synsets = wordnet.synsets(words[i])\n",
        "            if synsets:\n",
        "                w1 = synsets[0].name()\n",
        "                # Find antonyms for each lemma\n",
        "                for syn in synsets:\n",
        "                    for l in syn.lemmas():\n",
        "                        if l.antonyms():\n",
        "                            antonyms.append(l.antonyms()[0].name())\n",
        "\n",
        "                # If antonyms were found, choose the best one based on similarity\n",
        "                if antonyms:\n",
        "                    max_dissimilarity = 0\n",
        "                    for ant in antonyms:\n",
        "                        syns = wordnet.synsets(ant)\n",
        "                        if syns:\n",
        "                            w2 = syns[0].name()\n",
        "                            word1 = wordnet.synset(w1)\n",
        "                            word2 = wordnet.synset(w2)\n",
        "                            similarity = word1.wup_similarity(word2)\n",
        "                            if similarity:\n",
        "                                temp = 1 - similarity\n",
        "                                if temp > max_dissimilarity:\n",
        "                                    max_dissimilarity = temp\n",
        "                                    antonym_max = ant\n",
        "                                    words[i] = antonym_max  # Replace with the best antonym\n",
        "                                    words[i-1] = ''  # Remove the negation word\n",
        "\n",
        "        i += 1\n",
        "\n",
        "    words = [word for word in words if word]\n",
        "\n",
        "    sentence = ' '.join(words)\n",
        "    sentence = re.sub(r' \\?', '?', sentence)\n",
        "    sentence = re.sub(r' !', '!', sentence)\n",
        "    sentence = re.sub(r' \\' ', '\\'', sentence)\n",
        "    return sentence"
      ]
    },
    {
      "cell_type": "code",
      "execution_count": 417,
      "metadata": {
        "colab": {
          "base_uri": "https://localhost:8080/"
        },
        "id": "ye-6oy4Hvm5A",
        "outputId": "048a6b21-9d51-4ca0-9df9-9bb902bc33c5"
      },
      "outputs": [
        {
          "output_type": "stream",
          "name": "stdout",
          "text": [
            "i just do them when i m feeling paranoid\n",
            "i just do them when i m feeling paranoid\n"
          ]
        }
      ],
      "source": [
        "test_negation = emotion_df[\"text\"][random.randint(0, 1000)]\n",
        "print(test_negation)\n",
        "print(negate_sentence(test_negation))"
      ]
    },
    {
      "cell_type": "code",
      "execution_count": 418,
      "metadata": {
        "id": "5I4sx2HZ3cAn"
      },
      "outputs": [],
      "source": [
        "# emotion_df['text']= emotion_df['text'].apply(lambda x: negate_sentence(x))"
      ]
    },
    {
      "cell_type": "markdown",
      "metadata": {
        "id": "wBkUmONYmtto"
      },
      "source": [
        "Separate features and target"
      ]
    },
    {
      "cell_type": "code",
      "execution_count": 419,
      "metadata": {
        "id": "ezjBSCBwXrve"
      },
      "outputs": [],
      "source": [
        "X = emotion_df['text']\n",
        "y = emotion_df.drop('text', axis=1)\n",
        "\n",
        "emotion_df['text'] = X\n",
        "emotion_df['label'] = y"
      ]
    },
    {
      "cell_type": "code",
      "execution_count": 420,
      "metadata": {
        "id": "F956ZJJtFJjn"
      },
      "outputs": [],
      "source": [
        "y = pd.get_dummies(y, columns=['label'])\n",
        "y = y.astype(int)"
      ]
    },
    {
      "cell_type": "code",
      "execution_count": 421,
      "metadata": {
        "id": "-zjf8K1LXrvf"
      },
      "outputs": [],
      "source": [
        "X_train, X_test, y_train, y_test = train_test_split(X, y, test_size=0.3, random_state=2)\n"
      ]
    },
    {
      "cell_type": "markdown",
      "metadata": {
        "id": "nIczAaZlXrve"
      },
      "source": [
        "## Tokenization"
      ]
    },
    {
      "cell_type": "code",
      "execution_count": 422,
      "metadata": {
        "id": "hPvzBVRTqNoJ"
      },
      "outputs": [],
      "source": [
        "def split_exc(data):\n",
        "  print(data)\n",
        "  splitted = tf.strings.split(data, sep=\"!\")\n",
        "  return splitted"
      ]
    },
    {
      "cell_type": "code",
      "execution_count": 423,
      "metadata": {
        "id": "jjOgo9xBiDhS"
      },
      "outputs": [],
      "source": [
        "vectorize_layer = tf.keras.layers.TextVectorization(max_tokens = 20000,\n",
        "                                                    output_sequence_length = 200)\n",
        "vectorize_layer.adapt(X)"
      ]
    },
    {
      "cell_type": "code",
      "execution_count": 424,
      "metadata": {
        "id": "SKsT-SuW0NTD"
      },
      "outputs": [],
      "source": [
        "X_train = vectorize_layer(X_train)\n",
        "X_test = vectorize_layer(X_test)"
      ]
    },
    {
      "cell_type": "markdown",
      "metadata": {
        "id": "dLTkWpQ5m-K9"
      },
      "source": [
        "# Model Development"
      ]
    },
    {
      "cell_type": "code",
      "execution_count": 425,
      "metadata": {
        "id": "yqjjftNd1m-i"
      },
      "outputs": [],
      "source": [
        "early_stopping_callback = EarlyStopping(monitor='val_loss',\n",
        "                                        patience=3,\n",
        "                                        restore_best_weights=True)\n",
        "\n",
        "reduce_lr = ReduceLROnPlateau(monitor='val_loss', factor=0.2, patience=2, min_lr=0.0001, verbose=1)"
      ]
    },
    {
      "cell_type": "code",
      "execution_count": 426,
      "metadata": {
        "id": "h7DXiiqMXrvf"
      },
      "outputs": [],
      "source": [
        "model = tf.keras.Sequential([\n",
        "  tf.keras.layers.Embedding(\n",
        "      input_dim=20000,\n",
        "      output_dim=100,\n",
        "      mask_zero=True),\n",
        "  tf.keras.layers.Bidirectional(tf.keras.layers.LSTM(128, dropout=0.3)),\n",
        "\n",
        "  tf.keras.layers.Dense(64),\n",
        "  tf.keras.layers.BatchNormalization(),\n",
        "  tf.keras.layers.Activation('relu'),\n",
        "  tf.keras.layers.Dropout(0.4),\n",
        "\n",
        "  tf.keras.layers.Dense(7, activation='softmax')\n",
        "])"
      ]
    },
    {
      "cell_type": "code",
      "execution_count": 427,
      "metadata": {
        "id": "c-rSRVIiXrvf"
      },
      "outputs": [],
      "source": [
        "model.compile(optimizer='adam', loss='categorical_crossentropy', metrics=['accuracy', Precision(), Recall()])"
      ]
    },
    {
      "cell_type": "markdown",
      "metadata": {
        "id": "s3JLY5SXfoZX"
      },
      "source": []
    },
    {
      "cell_type": "code",
      "execution_count": 428,
      "metadata": {
        "colab": {
          "base_uri": "https://localhost:8080/"
        },
        "id": "2IBcyEGzXrvf",
        "outputId": "79e2f0ad-eed3-415f-ba1b-2f030a8cac62"
      },
      "outputs": [
        {
          "output_type": "stream",
          "name": "stdout",
          "text": [
            "Epoch 1/8\n",
            "2179/2179 [==============================] - 76s 31ms/step - loss: 0.5242 - accuracy: 0.8296 - precision_6: 0.8824 - recall_6: 0.7828 - val_loss: 0.2994 - val_accuracy: 0.8939 - val_precision_6: 0.9088 - val_recall_6: 0.8794 - lr: 0.0010\n",
            "Epoch 2/8\n",
            "2179/2179 [==============================] - 48s 22ms/step - loss: 0.2778 - accuracy: 0.9033 - precision_6: 0.9177 - recall_6: 0.8881 - val_loss: 0.2749 - val_accuracy: 0.9025 - val_precision_6: 0.9123 - val_recall_6: 0.8938 - lr: 0.0010\n",
            "Epoch 3/8\n",
            "2179/2179 [==============================] - 48s 22ms/step - loss: 0.2346 - accuracy: 0.9134 - precision_6: 0.9258 - recall_6: 0.9006 - val_loss: 0.2667 - val_accuracy: 0.9051 - val_precision_6: 0.9149 - val_recall_6: 0.8951 - lr: 0.0010\n",
            "Epoch 4/8\n",
            "2179/2179 [==============================] - 46s 21ms/step - loss: 0.2100 - accuracy: 0.9194 - precision_6: 0.9301 - recall_6: 0.9089 - val_loss: 0.2799 - val_accuracy: 0.9048 - val_precision_6: 0.9126 - val_recall_6: 0.8972 - lr: 0.0010\n",
            "Epoch 5/8\n",
            "2179/2179 [==============================] - ETA: 0s - loss: 0.1905 - accuracy: 0.9243 - precision_6: 0.9333 - recall_6: 0.9159\n",
            "Epoch 5: ReduceLROnPlateau reducing learning rate to 0.00020000000949949026.\n",
            "2179/2179 [==============================] - 46s 21ms/step - loss: 0.1905 - accuracy: 0.9243 - precision_6: 0.9333 - recall_6: 0.9159 - val_loss: 0.2881 - val_accuracy: 0.9046 - val_precision_6: 0.9114 - val_recall_6: 0.8980 - lr: 0.0010\n",
            "Epoch 6/8\n",
            "2179/2179 [==============================] - 45s 21ms/step - loss: 0.1579 - accuracy: 0.9336 - precision_6: 0.9399 - recall_6: 0.9274 - val_loss: 0.3252 - val_accuracy: 0.9045 - val_precision_6: 0.9097 - val_recall_6: 0.8997 - lr: 2.0000e-04\n"
          ]
        }
      ],
      "source": [
        "history = model.fit(X_train, y_train, batch_size=80, epochs=8, validation_split=0.25, verbose=1, callbacks=[early_stopping_callback, reduce_lr])"
      ]
    },
    {
      "cell_type": "code",
      "execution_count": 429,
      "metadata": {
        "id": "81DgurX2g-_o",
        "colab": {
          "base_uri": "https://localhost:8080/"
        },
        "outputId": "4d094996-1b05-4e76-ac02-d07117485070"
      },
      "outputs": [
        {
          "output_type": "stream",
          "name": "stdout",
          "text": [
            "3112/3112 [==============================] - 21s 7ms/step - loss: 0.2652 - accuracy: 0.9054 - precision_6: 0.9155 - recall_6: 0.8953\n"
          ]
        }
      ],
      "source": [
        "accr1 = model.evaluate(X_test[:100000], y_test[:100000]) #we are starting to test the model here\n"
      ]
    },
    {
      "cell_type": "code",
      "execution_count": 430,
      "metadata": {
        "colab": {
          "base_uri": "https://localhost:8080/",
          "height": 860
        },
        "id": "Nu6TK1Bd4Nf8",
        "outputId": "97220aeb-f563-4666-aaa1-4c7b67291790"
      },
      "outputs": [
        {
          "output_type": "execute_result",
          "data": {
            "text/plain": [
              "<Axes: >"
            ]
          },
          "metadata": {},
          "execution_count": 430
        },
        {
          "output_type": "display_data",
          "data": {
            "text/plain": [
              "<Figure size 640x480 with 1 Axes>"
            ],
            "image/png": "[encoded data removed]"
          },
          "metadata": {}
        },
        {
          "output_type": "display_data",
          "data": {
            "text/plain": [
              "<Figure size 640x480 with 1 Axes>"
            ],
            "image/png": "[encoded data removed]"
          },
          "metadata": {}
        }
      ],
      "source": [
        "history_frame = pd.DataFrame(history.history)\n",
        "history_frame.loc[:, ['loss', 'val_loss']].plot()\n",
        "history_frame.loc[:, ['accuracy', 'val_accuracy']].plot()"
      ]
    },
    {
      "cell_type": "code",
      "execution_count": 431,
      "metadata": {
        "id": "0U-W7h7cH1e4"
      },
      "outputs": [],
      "source": [
        "model.save(\"my_model.keras\")"
      ]
    },
    {
      "cell_type": "code",
      "execution_count": 432,
      "metadata": {
        "id": "CPyQOtN3iwUM",
        "colab": {
          "base_uri": "https://localhost:8080/"
        },
        "outputId": "914a1694-9734-46de-8faa-adf150e39052"
      },
      "outputs": [
        {
          "output_type": "stream",
          "name": "stdout",
          "text": [
            "Model: \"sequential_6\"\n",
            "_________________________________________________________________\n",
            " Layer (type)                Output Shape              Param #   \n",
            "=================================================================\n",
            " embedding_6 (Embedding)     (None, None, 100)         2000000   \n",
            "                                                                 \n",
            " bidirectional_6 (Bidirecti  (None, 256)               234496    \n",
            " onal)                                                           \n",
            "                                                                 \n",
            " dense_12 (Dense)            (None, 64)                16448     \n",
            "                                                                 \n",
            " batch_normalization_6 (Bat  (None, 64)                256       \n",
            " chNormalization)                                                \n",
            "                                                                 \n",
            " activation_6 (Activation)   (None, 64)                0         \n",
            "                                                                 \n",
            " dropout_6 (Dropout)         (None, 64)                0         \n",
            "                                                                 \n",
            " dense_13 (Dense)            (None, 7)                 455       \n",
            "                                                                 \n",
            "=================================================================\n",
            "Total params: 2251655 (8.59 MB)\n",
            "Trainable params: 2251527 (8.59 MB)\n",
            "Non-trainable params: 128 (512.00 Byte)\n",
            "_________________________________________________________________\n"
          ]
        }
      ],
      "source": [
        "model.summary()"
      ]
    },
    {
      "cell_type": "code",
      "execution_count": 433,
      "metadata": {
        "id": "KpcDv8Kfiby3",
        "colab": {
          "base_uri": "https://localhost:8080/"
        },
        "outputId": "715a230e-d2ba-41bc-8db5-63650a39433a"
      },
      "outputs": [
        {
          "output_type": "execute_result",
          "data": {
            "text/plain": [
              "<tf.Tensor: shape=(1, 200), dtype=int64, numpy=\n",
              "array([[  1, 521,   0,   0,   0,   0,   0,   0,   0,   0,   0,   0,   0,\n",
              "          0,   0,   0,   0,   0,   0,   0,   0,   0,   0,   0,   0,   0,\n",
              "          0,   0,   0,   0,   0,   0,   0,   0,   0,   0,   0,   0,   0,\n",
              "          0,   0,   0,   0,   0,   0,   0,   0,   0,   0,   0,   0,   0,\n",
              "          0,   0,   0,   0,   0,   0,   0,   0,   0,   0,   0,   0,   0,\n",
              "          0,   0,   0,   0,   0,   0,   0,   0,   0,   0,   0,   0,   0,\n",
              "          0,   0,   0,   0,   0,   0,   0,   0,   0,   0,   0,   0,   0,\n",
              "          0,   0,   0,   0,   0,   0,   0,   0,   0,   0,   0,   0,   0,\n",
              "          0,   0,   0,   0,   0,   0,   0,   0,   0,   0,   0,   0,   0,\n",
              "          0,   0,   0,   0,   0,   0,   0,   0,   0,   0,   0,   0,   0,\n",
              "          0,   0,   0,   0,   0,   0,   0,   0,   0,   0,   0,   0,   0,\n",
              "          0,   0,   0,   0,   0,   0,   0,   0,   0,   0,   0,   0,   0,\n",
              "          0,   0,   0,   0,   0,   0,   0,   0,   0,   0,   0,   0,   0,\n",
              "          0,   0,   0,   0,   0,   0,   0,   0,   0,   0,   0,   0,   0,\n",
              "          0,   0,   0,   0,   0,   0,   0,   0,   0,   0,   0,   0,   0,\n",
              "          0,   0,   0,   0,   0]])>"
            ]
          },
          "metadata": {},
          "execution_count": 433
        }
      ],
      "source": [
        "text = \"idk wow???\"\n",
        "sequences = vectorize_layer(text)\n",
        "sequences = tf.expand_dims(sequences, axis=0)  # Add batch dimension\n",
        "sequences"
      ]
    },
    {
      "cell_type": "code",
      "execution_count": 434,
      "metadata": {
        "id": "a_LpYo-LihZe",
        "colab": {
          "base_uri": "https://localhost:8080/"
        },
        "outputId": "e5100a12-2fae-4b8f-95c1-53b32dbee9e5"
      },
      "outputs": [
        {
          "output_type": "stream",
          "name": "stdout",
          "text": [
            "1/1 [==============================] - 2s 2s/step\n",
            "label_surprise\n"
          ]
        }
      ],
      "source": [
        "prediction = model.predict(sequences)\n",
        "predicted_index = np.argmax(prediction)\n",
        "\n",
        "predicted_label = y.columns[predicted_index]\n",
        "print(predicted_label)"
      ]
    },
    {
      "cell_type": "code",
      "execution_count": 435,
      "metadata": {
        "id": "DVMVmyWvrieF",
        "colab": {
          "base_uri": "https://localhost:8080/"
        },
        "outputId": "b1444bbb-b9d9-4e6e-fd7b-98a11422c177"
      },
      "outputs": [
        {
          "output_type": "stream",
          "name": "stdout",
          "text": [
            "157/157 [==============================] - 1s 5ms/step\n",
            "[[0.86675462 0.04221636 0.         0.         0.08311346 0.00527704\n",
            "  0.00263852]\n",
            " [0.00658762 0.87878788 0.00131752 0.00131752 0.01976285 0.00131752\n",
            "  0.09090909]\n",
            " [0.00537634 0.00672043 0.88575269 0.06048387 0.02688172 0.00134409\n",
            "  0.01344086]\n",
            " [0.         0.         0.         0.9787234  0.0212766  0.\n",
            "  0.        ]\n",
            " [0.0237467  0.00659631 0.00527704 0.01319261 0.92084433 0.00527704\n",
            "  0.02506596]\n",
            " [0.03238866 0.02564103 0.00269906 0.         0.02294197 0.91497976\n",
            "  0.00134953]\n",
            " [0.00687285 0.00343643 0.00171821 0.00171821 0.08419244 0.\n",
            "  0.90206186]]\n"
          ]
        }
      ],
      "source": [
        "predictions = model.predict(X_test[:5000])\n",
        "predicted_classes = np.argmax(predictions, axis=1)\n",
        "true_classes = np.argmax(y_test[:5000], axis=1)\n",
        "\n",
        "cm = confusion_matrix(true_classes, predicted_classes)\n",
        "cm = cm.astype('float') / cm.sum(axis=1)[:, np.newaxis]\n",
        "print(cm)"
      ]
    },
    {
      "cell_type": "code",
      "execution_count": 436,
      "metadata": {
        "id": "mWC786kast9Y",
        "colab": {
          "base_uri": "https://localhost:8080/",
          "height": 590
        },
        "outputId": "a4a2bcd3-f6e7-4661-a580-1c3e87dacba0"
      },
      "outputs": [
        {
          "output_type": "execute_result",
          "data": {
            "text/plain": [
              "<Figure size 1500x1500 with 0 Axes>"
            ]
          },
          "metadata": {},
          "execution_count": 436
        },
        {
          "output_type": "display_data",
          "data": {
            "text/plain": [
              "<Figure size 640x480 with 2 Axes>"
            ],
            "image/png": "[encoded data removed]"
          },
          "metadata": {}
        },
        {
          "output_type": "display_data",
          "data": {
            "text/plain": [
              "<Figure size 1500x1500 with 0 Axes>"
            ]
          },
          "metadata": {}
        }
      ],
      "source": [
        "classes = y.columns\n",
        "\n",
        "sns.heatmap(cm, annot=True)\n",
        "plt.title('Confusion matrix')\n",
        "\n",
        "tick_marks = np.arange(len(classes))\n",
        "plt.xticks(tick_marks, classes, rotation=90)\n",
        "plt.yticks(tick_marks, classes, rotation=0)\n",
        "\n",
        "plt.ylabel('True label')\n",
        "plt.xlabel('Predicted label')\n",
        "\n",
        "plt.figure(figsize=(15, 15))"
      ]
    }
  ],
  "metadata": {
    "colab": {
      "provenance": [],
      "gpuType": "T4"
    },
    "kernelspec": {
      "display_name": "Python 3",
      "name": "python3"
    },
    "language_info": {
      "codemirror_mode": {
        "name": "ipython",
        "version": 3
      },
      "file_extension": ".py",
      "mimetype": "text/x-python",
      "name": "python",
      "nbconvert_exporter": "python",
      "pygments_lexer": "ipython3",
      "version": "3.11.5"
    },
    "accelerator": "GPU"
  },
  "nbformat": 4,
  "nbformat_minor": 0
}