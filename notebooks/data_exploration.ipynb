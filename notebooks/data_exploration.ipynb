{
  "cells": [
    {
      "cell_type": "code",
      "execution_count": 398,
      "metadata": {
        "id": "gSc5nRAlX9hm"
      },
      "outputs": [],
      "source": [
        "%%capture\n",
        "!pip install datasets\n",
        "!pip install contractions"
      ]
    },
    {
      "cell_type": "code",
      "execution_count": 450,
      "metadata": {
        "id": "9Z8-bJjMXrvY"
      },
      "outputs": [],
      "source": [
        "# Standard library imports\n",
        "import logging\n",
        "import re\n",
        "import string\n",
        "\n",
        "# Related third party imports\n",
        "import matplotlib.pyplot as plt\n",
        "import numpy as np\n",
        "import pandas as pd\n",
        "import seaborn as sns\n",
        "from sklearn.metrics import confusion_matrix, accuracy_score\n",
        "from sklearn.model_selection import train_test_split\n",
        "from sklearn.ensemble import RandomForestClassifier\n",
        "from sklearn.utils import shuffle\n",
        "import tensorflow as tf\n",
        "from tensorflow.keras.callbacks import EarlyStopping, ReduceLROnPlateau\n",
        "from tensorflow.keras.metrics import Precision, Recall\n",
        "from tensorflow.keras.preprocessing import sequence\n",
        "from tensorflow.keras.preprocessing.sequence import pad_sequences\n",
        "from tensorflow.keras.preprocessing.text import Tokenizer\n",
        "from wordcloud import WordCloud\n",
        "import contractions\n",
        "\n",
        "# Local application/library specific imports\n",
        "import nltk\n",
        "from nltk import word_tokenize\n",
        "from nltk.corpus import stopwords, wordnet\n",
        "import random\n",
        "from datasets import load_dataset, concatenate_datasets"
      ]
    },
    {
      "cell_type": "code",
      "source": [
        "nltk.download('wordnet')\n",
        "nltk.download('punkt')\n",
        "nltk.download('stopwords')\n",
        "nltk.download('averaged_perceptron_tagger')"
      ],
      "metadata": {
        "colab": {
          "base_uri": "https://localhost:8080/"
        },
        "id": "GRcQWRW7pb6o",
        "outputId": "85189374-33ae-486b-961e-6ed2981a955d"
      },
      "execution_count": 400,
      "outputs": [
        {
          "output_type": "stream",
          "name": "stderr",
          "text": [
            "[nltk_data] Downloading package wordnet to /root/nltk_data...\n",
            "[nltk_data]   Package wordnet is already up-to-date!\n",
            "[nltk_data] Downloading package punkt to /root/nltk_data...\n",
            "[nltk_data]   Package punkt is already up-to-date!\n",
            "[nltk_data] Downloading package stopwords to /root/nltk_data...\n",
            "[nltk_data]   Package stopwords is already up-to-date!\n",
            "[nltk_data] Downloading package averaged_perceptron_tagger to\n",
            "[nltk_data]     /root/nltk_data...\n",
            "[nltk_data]   Package averaged_perceptron_tagger is already up-to-\n",
            "[nltk_data]       date!\n"
          ]
        },
        {
          "output_type": "execute_result",
          "data": {
            "text/plain": [
              "True"
            ]
          },
          "metadata": {},
          "execution_count": 400
        }
      ]
    },
    {
      "cell_type": "code",
      "execution_count": 401,
      "metadata": {
        "id": "CWEDiph-Xrva"
      },
      "outputs": [],
      "source": [
        "text_emotion_dataset = load_dataset(\"dair-ai/emotion\", name=\"unsplit\")\n",
        "\n",
        "reddit_emotion_dataset = load_dataset(\"go_emotions\", \"raw\")\n",
        "reddit_emotion_dataset = reddit_emotion_dataset[\"train\"]\n",
        "\n",
        "twitter_emotion_dataset = load_dataset(\"tweet_eval\", \"emotion\")"
      ]
    },
    {
      "cell_type": "code",
      "execution_count": 402,
      "metadata": {
        "id": "mshsiOqlXrvb"
      },
      "outputs": [],
      "source": [
        "reddit_emotion_dataset = reddit_emotion_dataset.remove_columns([\"link_id\",\n",
        "                                                                \"author\",\n",
        "                                                                \"id\",\n",
        "                                                                \"parent_id\",\n",
        "                                                                \"created_utc\",\n",
        "                                                                \"subreddit\",\n",
        "                                                                \"example_very_unclear\",\n",
        "                                                                \"rater_id\"\n",
        "                                                                ])"
      ]
    },
    {
      "cell_type": "code",
      "execution_count": 403,
      "metadata": {
        "colab": {
          "base_uri": "https://localhost:8080/"
        },
        "id": "bahVdLv0Xrvb",
        "outputId": "dc01dbdc-a110-4895-e1aa-f29830e61fbc"
      },
      "outputs": [
        {
          "output_type": "stream",
          "name": "stdout",
          "text": [
            "Original number of rows: 211225\n",
            "Filtered number of rows: 171820\n"
          ]
        }
      ],
      "source": [
        "reddit_emotion_features = ['admiration', 'amusement', 'anger', 'annoyance', 'approval', 'caring', 'confusion', 'curiosity', 'desire', 'disappointment', 'disapproval', 'disgust', 'embarrassment', 'excitement', 'fear', 'gratitude', 'grief', 'joy', 'love', 'nervousness', 'optimism', 'pride', 'realization', 'relief', 'remorse', 'sadness', 'surprise', 'neutral']\n",
        "\n",
        "def filter_zero_emotions(entry):\n",
        "    return any(entry[emotion] > 0 for emotion in reddit_emotion_features)\n",
        "\n",
        "def filter_single_emotion(entry):\n",
        "    return sum(entry[emotion] for emotion in reddit_emotion_features) == 1\n",
        "\n",
        "print(\"Original number of rows:\", len(reddit_emotion_dataset))\n",
        "\n",
        "reddit_emotion_dataset = reddit_emotion_dataset.filter(filter_zero_emotions)\n",
        "reddit_emotion_dataset = reddit_emotion_dataset.filter(filter_single_emotion)\n",
        "\n",
        "print(\"Filtered number of rows:\", len(reddit_emotion_dataset))\n"
      ]
    },
    {
      "cell_type": "code",
      "execution_count": 404,
      "metadata": {
        "id": "3alWeWCxXrvc"
      },
      "outputs": [],
      "source": [
        "reddit_emotion_dataset = reddit_emotion_dataset.to_pandas()"
      ]
    },
    {
      "cell_type": "code",
      "execution_count": 405,
      "metadata": {
        "colab": {
          "base_uri": "https://localhost:8080/",
          "height": 568
        },
        "id": "hbplCq8nXrvc",
        "outputId": "8313a9b3-132a-4c77-8cd7-3d17f690f9b6"
      },
      "outputs": [
        {
          "output_type": "display_data",
          "data": {
            "text/plain": [
              "<Figure size 640x480 with 1 Axes>"
            ],
            "image/png": "[encoded data removed]"
          },
          "metadata": {}
        }
      ],
      "source": [
        "emotions_count = {}\n",
        "\n",
        "for column in reddit_emotion_dataset.columns:\n",
        "    if column != 'text':\n",
        "        emotions_count[column] = (reddit_emotion_dataset[column] == 1).sum()\n",
        "\n",
        "emotions_count = pd.Series(emotions_count)\n",
        "emotions_count.sort_values(ascending=False, inplace=True)\n",
        "\n",
        "emotions_count.plot(kind='bar')\n",
        "plt.title('Distribution of Feature')\n",
        "plt.xlabel('Value')\n",
        "plt.ylabel('Frequency')\n",
        "plt.show()"
      ]
    },
    {
      "cell_type": "code",
      "execution_count": 406,
      "metadata": {
        "id": "R_ljjSyZXrvc"
      },
      "outputs": [],
      "source": [
        "reddit_emotion_dataset[\"label\"] = pd.from_dummies(reddit_emotion_dataset[reddit_emotion_features])\n",
        "reddit_emotion_dataset = reddit_emotion_dataset[[\"text\", \"label\"]]"
      ]
    },
    {
      "cell_type": "markdown",
      "source": [
        "### Twitter Dataset Preprocessing"
      ],
      "metadata": {
        "id": "lD9Vd6bol0w7"
      }
    },
    {
      "cell_type": "code",
      "execution_count": 407,
      "metadata": {
        "colab": {
          "base_uri": "https://localhost:8080/"
        },
        "id": "ArMcpvMVXrvc",
        "outputId": "4bd2e60a-ffc8-49d9-ef30-c3685f796ad9"
      },
      "outputs": [
        {
          "output_type": "execute_result",
          "data": {
            "text/plain": [
              "Dataset({\n",
              "    features: ['text', 'label'],\n",
              "    num_rows: 5052\n",
              "})"
            ]
          },
          "metadata": {},
          "execution_count": 407
        }
      ],
      "source": [
        "twitter_emotion_dataset = concatenate_datasets([twitter_emotion_dataset[\"train\"], twitter_emotion_dataset[\"validation\"], twitter_emotion_dataset[\"test\"]])\n",
        "twitter_emotion_dataset"
      ]
    },
    {
      "cell_type": "code",
      "execution_count": 408,
      "metadata": {
        "colab": {
          "base_uri": "https://localhost:8080/",
          "height": 424
        },
        "id": "cxH0iZwHXrvc",
        "outputId": "be12ac64-afa1-4250-cf9b-8db1abc75843"
      },
      "outputs": [
        {
          "output_type": "execute_result",
          "data": {
            "text/plain": [
              "                                                   text     label\n",
              "0     “Worry is a down payment on a problem you may ...  optimism\n",
              "1     My roommate: it's okay that we can't spell bec...     anger\n",
              "2     No but that's so cute. Atsu was probably shy a...       joy\n",
              "3     Rooneys fucking untouchable isn't he? Been fuc...     anger\n",
              "4     it's pretty depressing when u hit pan on ur fa...   sadness\n",
              "...                                                 ...       ...\n",
              "5047  I need a sparkling bodysuit . No occasion. Jus...       joy\n",
              "5048  @user I've finished reading it; simply mind-bl...   sadness\n",
              "5049  shaft abrasions from panties merely shifted to...     anger\n",
              "5050        All this fake outrage. Y'all need to stop 🤣     anger\n",
              "5051  Would be ever so grateful if you could record ...       joy\n",
              "\n",
              "[5052 rows x 2 columns]"
            ],
            "text/html": [
              "\n",
              "  <div id=\"df-9679eccb-317e-44f5-b144-b77a8e586cd6\" class=\"colab-df-container\">\n",
              "    <div>\n",
              "<style scoped>\n",
              "    .dataframe tbody tr th:only-of-type {\n",
              "        vertical-align: middle;\n",
              "    }\n",
              "\n",
              "    .dataframe tbody tr th {\n",
              "        vertical-align: top;\n",
              "    }\n",
              "\n",
              "    .dataframe thead th {\n",
              "        text-align: right;\n",
              "    }\n",
              "</style>\n",
              "<table border=\"1\" class=\"dataframe\">\n",
              "  <thead>\n",
              "    <tr style=\"text-align: right;\">\n",
              "      <th></th>\n",
              "      <th>text</th>\n",
              "      <th>label</th>\n",
              "    </tr>\n",
              "  </thead>\n",
              "  <tbody>\n",
              "    <tr>\n",
              "      <th>0</th>\n",
              "      <td>“Worry is a down payment on a problem you may ...</td>\n",
              "      <td>optimism</td>\n",
              "    </tr>\n",
              "    <tr>\n",
              "      <th>1</th>\n",
              "      <td>My roommate: it's okay that we can't spell bec...</td>\n",
              "      <td>anger</td>\n",
              "    </tr>\n",
              "    <tr>\n",
              "      <th>2</th>\n",
              "      <td>No but that's so cute. Atsu was probably shy a...</td>\n",
              "      <td>joy</td>\n",
              "    </tr>\n",
              "    <tr>\n",
              "      <th>3</th>\n",
              "      <td>Rooneys fucking untouchable isn't he? Been fuc...</td>\n",
              "      <td>anger</td>\n",
              "    </tr>\n",
              "    <tr>\n",
              "      <th>4</th>\n",
              "      <td>it's pretty depressing when u hit pan on ur fa...</td>\n",
              "      <td>sadness</td>\n",
              "    </tr>\n",
              "    <tr>\n",
              "      <th>...</th>\n",
              "      <td>...</td>\n",
              "      <td>...</td>\n",
              "    </tr>\n",
              "    <tr>\n",
              "      <th>5047</th>\n",
              "      <td>I need a sparkling bodysuit . No occasion. Jus...</td>\n",
              "      <td>joy</td>\n",
              "    </tr>\n",
              "    <tr>\n",
              "      <th>5048</th>\n",
              "      <td>@user I've finished reading it; simply mind-bl...</td>\n",
              "      <td>sadness</td>\n",
              "    </tr>\n",
              "    <tr>\n",
              "      <th>5049</th>\n",
              "      <td>shaft abrasions from panties merely shifted to...</td>\n",
              "      <td>anger</td>\n",
              "    </tr>\n",
              "    <tr>\n",
              "      <th>5050</th>\n",
              "      <td>All this fake outrage. Y'all need to stop 🤣</td>\n",
              "      <td>anger</td>\n",
              "    </tr>\n",
              "    <tr>\n",
              "      <th>5051</th>\n",
              "      <td>Would be ever so grateful if you could record ...</td>\n",
              "      <td>joy</td>\n",
              "    </tr>\n",
              "  </tbody>\n",
              "</table>\n",
              "<p>5052 rows × 2 columns</p>\n",
              "</div>\n",
              "    <div class=\"colab-df-buttons\">\n",
              "\n",
              "  <div class=\"colab-df-container\">\n",
              "    <button class=\"colab-df-convert\" onclick=\"convertToInteractive('df-9679eccb-317e-44f5-b144-b77a8e586cd6')\"\n",
              "            title=\"Convert this dataframe to an interactive table.\"\n",
              "            style=\"display:none;\">\n",
              "\n",
              "  <svg xmlns=\"http://www.w3.org/2000/svg\" height=\"24px\" viewBox=\"0 -960 960 960\">\n",
              "    <path d=\"M120-120v-720h720v720H120Zm60-500h600v-160H180v160Zm220 220h160v-160H400v160Zm0 220h160v-160H400v160ZM180-400h160v-160H180v160Zm440 0h160v-160H620v160ZM180-180h160v-160H180v160Zm440 0h160v-160H620v160Z\"/>\n",
              "  </svg>\n",
              "    </button>\n",
              "\n",
              "  <style>\n",
              "    .colab-df-container {\n",
              "      display:flex;\n",
              "      gap: 12px;\n",
              "    }\n",
              "\n",
              "    .colab-df-convert {\n",
              "      background-color: #E8F0FE;\n",
              "      border: none;\n",
              "      border-radius: 50%;\n",
              "      cursor: pointer;\n",
              "      display: none;\n",
              "      fill: #1967D2;\n",
              "      height: 32px;\n",
              "      padding: 0 0 0 0;\n",
              "      width: 32px;\n",
              "    }\n",
              "\n",
              "    .colab-df-convert:hover {\n",
              "      background-color: #E2EBFA;\n",
              "      box-shadow: 0px 1px 2px rgba(60, 64, 67, 0.3), 0px 1px 3px 1px rgba(60, 64, 67, 0.15);\n",
              "      fill: #174EA6;\n",
              "    }\n",
              "\n",
              "    .colab-df-buttons div {\n",
              "      margin-bottom: 4px;\n",
              "    }\n",
              "\n",
              "    [theme=dark] .colab-df-convert {\n",
              "      background-color: #3B4455;\n",
              "      fill: #D2E3FC;\n",
              "    }\n",
              "\n",
              "    [theme=dark] .colab-df-convert:hover {\n",
              "      background-color: #434B5C;\n",
              "      box-shadow: 0px 1px 3px 1px rgba(0, 0, 0, 0.15);\n",
              "      filter: drop-shadow(0px 1px 2px rgba(0, 0, 0, 0.3));\n",
              "      fill: #FFFFFF;\n",
              "    }\n",
              "  </style>\n",
              "\n",
              "    <script>\n",
              "      const buttonEl =\n",
              "        document.querySelector('#df-9679eccb-317e-44f5-b144-b77a8e586cd6 button.colab-df-convert');\n",
              "      buttonEl.style.display =\n",
              "        google.colab.kernel.accessAllowed ? 'block' : 'none';\n",
              "\n",
              "      async function convertToInteractive(key) {\n",
              "        const element = document.querySelector('#df-9679eccb-317e-44f5-b144-b77a8e586cd6');\n",
              "        const dataTable =\n",
              "          await google.colab.kernel.invokeFunction('convertToInteractive',\n",
              "                                                    [key], {});\n",
              "        if (!dataTable) return;\n",
              "\n",
              "        const docLinkHtml = 'Like what you see? Visit the ' +\n",
              "          '<a target=\"_blank\" href=https://colab.research.google.com/notebooks/data_table.ipynb>data table notebook</a>'\n",
              "          + ' to learn more about interactive tables.';\n",
              "        element.innerHTML = '';\n",
              "        dataTable['output_type'] = 'display_data';\n",
              "        await google.colab.output.renderOutput(dataTable, element);\n",
              "        const docLink = document.createElement('div');\n",
              "        docLink.innerHTML = docLinkHtml;\n",
              "        element.appendChild(docLink);\n",
              "      }\n",
              "    </script>\n",
              "  </div>\n",
              "\n",
              "\n",
              "<div id=\"df-6f8a0e7c-1ca5-49b8-a1a4-98f9919f2a1c\">\n",
              "  <button class=\"colab-df-quickchart\" onclick=\"quickchart('df-6f8a0e7c-1ca5-49b8-a1a4-98f9919f2a1c')\"\n",
              "            title=\"Suggest charts\"\n",
              "            style=\"display:none;\">\n",
              "\n",
              "<svg xmlns=\"http://www.w3.org/2000/svg\" height=\"24px\"viewBox=\"0 0 24 24\"\n",
              "     width=\"24px\">\n",
              "    <g>\n",
              "        <path d=\"M19 3H5c-1.1 0-2 .9-2 2v14c0 1.1.9 2 2 2h14c1.1 0 2-.9 2-2V5c0-1.1-.9-2-2-2zM9 17H7v-7h2v7zm4 0h-2V7h2v10zm4 0h-2v-4h2v4z\"/>\n",
              "    </g>\n",
              "</svg>\n",
              "  </button>\n",
              "\n",
              "<style>\n",
              "  .colab-df-quickchart {\n",
              "      --bg-color: #E8F0FE;\n",
              "      --fill-color: #1967D2;\n",
              "      --hover-bg-color: #E2EBFA;\n",
              "      --hover-fill-color: #174EA6;\n",
              "      --disabled-fill-color: #AAA;\n",
              "      --disabled-bg-color: #DDD;\n",
              "  }\n",
              "\n",
              "  [theme=dark] .colab-df-quickchart {\n",
              "      --bg-color: #3B4455;\n",
              "      --fill-color: #D2E3FC;\n",
              "      --hover-bg-color: #434B5C;\n",
              "      --hover-fill-color: #FFFFFF;\n",
              "      --disabled-bg-color: #3B4455;\n",
              "      --disabled-fill-color: #666;\n",
              "  }\n",
              "\n",
              "  .colab-df-quickchart {\n",
              "    background-color: var(--bg-color);\n",
              "    border: none;\n",
              "    border-radius: 50%;\n",
              "    cursor: pointer;\n",
              "    display: none;\n",
              "    fill: var(--fill-color);\n",
              "    height: 32px;\n",
              "    padding: 0;\n",
              "    width: 32px;\n",
              "  }\n",
              "\n",
              "  .colab-df-quickchart:hover {\n",
              "    background-color: var(--hover-bg-color);\n",
              "    box-shadow: 0 1px 2px rgba(60, 64, 67, 0.3), 0 1px 3px 1px rgba(60, 64, 67, 0.15);\n",
              "    fill: var(--button-hover-fill-color);\n",
              "  }\n",
              "\n",
              "  .colab-df-quickchart-complete:disabled,\n",
              "  .colab-df-quickchart-complete:disabled:hover {\n",
              "    background-color: var(--disabled-bg-color);\n",
              "    fill: var(--disabled-fill-color);\n",
              "    box-shadow: none;\n",
              "  }\n",
              "\n",
              "  .colab-df-spinner {\n",
              "    border: 2px solid var(--fill-color);\n",
              "    border-color: transparent;\n",
              "    border-bottom-color: var(--fill-color);\n",
              "    animation:\n",
              "      spin 1s steps(1) infinite;\n",
              "  }\n",
              "\n",
              "  @keyframes spin {\n",
              "    0% {\n",
              "      border-color: transparent;\n",
              "      border-bottom-color: var(--fill-color);\n",
              "      border-left-color: var(--fill-color);\n",
              "    }\n",
              "    20% {\n",
              "      border-color: transparent;\n",
              "      border-left-color: var(--fill-color);\n",
              "      border-top-color: var(--fill-color);\n",
              "    }\n",
              "    30% {\n",
              "      border-color: transparent;\n",
              "      border-left-color: var(--fill-color);\n",
              "      border-top-color: var(--fill-color);\n",
              "      border-right-color: var(--fill-color);\n",
              "    }\n",
              "    40% {\n",
              "      border-color: transparent;\n",
              "      border-right-color: var(--fill-color);\n",
              "      border-top-color: var(--fill-color);\n",
              "    }\n",
              "    60% {\n",
              "      border-color: transparent;\n",
              "      border-right-color: var(--fill-color);\n",
              "    }\n",
              "    80% {\n",
              "      border-color: transparent;\n",
              "      border-right-color: var(--fill-color);\n",
              "      border-bottom-color: var(--fill-color);\n",
              "    }\n",
              "    90% {\n",
              "      border-color: transparent;\n",
              "      border-bottom-color: var(--fill-color);\n",
              "    }\n",
              "  }\n",
              "</style>\n",
              "\n",
              "  <script>\n",
              "    async function quickchart(key) {\n",
              "      const quickchartButtonEl =\n",
              "        document.querySelector('#' + key + ' button');\n",
              "      quickchartButtonEl.disabled = true;  // To prevent multiple clicks.\n",
              "      quickchartButtonEl.classList.add('colab-df-spinner');\n",
              "      try {\n",
              "        const charts = await google.colab.kernel.invokeFunction(\n",
              "            'suggestCharts', [key], {});\n",
              "      } catch (error) {\n",
              "        console.error('Error during call to suggestCharts:', error);\n",
              "      }\n",
              "      quickchartButtonEl.classList.remove('colab-df-spinner');\n",
              "      quickchartButtonEl.classList.add('colab-df-quickchart-complete');\n",
              "    }\n",
              "    (() => {\n",
              "      let quickchartButtonEl =\n",
              "        document.querySelector('#df-6f8a0e7c-1ca5-49b8-a1a4-98f9919f2a1c button');\n",
              "      quickchartButtonEl.style.display =\n",
              "        google.colab.kernel.accessAllowed ? 'block' : 'none';\n",
              "    })();\n",
              "  </script>\n",
              "</div>\n",
              "    </div>\n",
              "  </div>\n"
            ],
            "application/vnd.google.colaboratory.intrinsic+json": {
              "type": "dataframe",
              "variable_name": "twitter_emotion_df",
              "summary": "{\n  \"name\": \"twitter_emotion_df\",\n  \"rows\": 5052,\n  \"fields\": [\n    {\n      \"column\": \"text\",\n      \"properties\": {\n        \"dtype\": \"string\",\n        \"num_unique_values\": 5027,\n        \"samples\": [\n          \"@user May I suggest, that you have a meal that is made with beans, onions &amp; garlic, the day before class.\",\n          \"mom asked if i wanted acrylics &amp; i said 'no because you never know when someone gon let me tickle they pussy' she was deeply offended. lbvs\",\n          \"@user See you all October 8th. @user is ready to tear it up #keeptalkin #wreckinso #the40 #brandonmanitoba #country #rock #blues\"\n        ],\n        \"semantic_type\": \"\",\n        \"description\": \"\"\n      }\n    },\n    {\n      \"column\": \"label\",\n      \"properties\": {\n        \"dtype\": \"category\",\n        \"num_unique_values\": 4,\n        \"samples\": [\n          \"anger\",\n          \"sadness\",\n          \"optimism\"\n        ],\n        \"semantic_type\": \"\",\n        \"description\": \"\"\n      }\n    }\n  ]\n}"
            }
          },
          "metadata": {},
          "execution_count": 408
        }
      ],
      "source": [
        "twitter_emotion_df = twitter_emotion_dataset.to_pandas()\n",
        "twitter_emotion_df['label'] = twitter_emotion_df['label'].astype('category')\n",
        "twitter_emotion_df['label'] = twitter_emotion_df['label'].cat.rename_categories({0: \"anger\", 1: \"joy\", 2: \"optimism\", 3: \"sadness\"})\n",
        "twitter_emotion_df\n"
      ]
    },
    {
      "cell_type": "code",
      "execution_count": 409,
      "metadata": {
        "colab": {
          "base_uri": "https://localhost:8080/",
          "height": 424
        },
        "id": "mrlBYBGUXrvd",
        "outputId": "fc7bc220-2d95-4c2c-c165-ca1c2f18cb5e"
      },
      "outputs": [
        {
          "output_type": "execute_result",
          "data": {
            "text/plain": [
              "                                                     text    label\n",
              "0       i feel awful about it too because it s my job ...  sadness\n",
              "1                                   im alone i feel awful  sadness\n",
              "2       ive probably mentioned this before but i reall...      joy\n",
              "3                i was feeling a little low few days back  sadness\n",
              "4       i beleive that i am much more sensitive to oth...     love\n",
              "...                                                   ...      ...\n",
              "416804  that was what i felt when i was finally accept...      joy\n",
              "416805  i take every day as it comes i m just focussin...     fear\n",
              "416806      i just suddenly feel that everything was fake  sadness\n",
              "416807  im feeling more eager than ever to claw back w...      joy\n",
              "416808  i give you plenty of attention even when i fee...  sadness\n",
              "\n",
              "[416809 rows x 2 columns]"
            ],
            "text/html": [
              "\n",
              "  <div id=\"df-b6075097-5be4-4fd1-8000-1fba9b4f7612\" class=\"colab-df-container\">\n",
              "    <div>\n",
              "<style scoped>\n",
              "    .dataframe tbody tr th:only-of-type {\n",
              "        vertical-align: middle;\n",
              "    }\n",
              "\n",
              "    .dataframe tbody tr th {\n",
              "        vertical-align: top;\n",
              "    }\n",
              "\n",
              "    .dataframe thead th {\n",
              "        text-align: right;\n",
              "    }\n",
              "</style>\n",
              "<table border=\"1\" class=\"dataframe\">\n",
              "  <thead>\n",
              "    <tr style=\"text-align: right;\">\n",
              "      <th></th>\n",
              "      <th>text</th>\n",
              "      <th>label</th>\n",
              "    </tr>\n",
              "  </thead>\n",
              "  <tbody>\n",
              "    <tr>\n",
              "      <th>0</th>\n",
              "      <td>i feel awful about it too because it s my job ...</td>\n",
              "      <td>sadness</td>\n",
              "    </tr>\n",
              "    <tr>\n",
              "      <th>1</th>\n",
              "      <td>im alone i feel awful</td>\n",
              "      <td>sadness</td>\n",
              "    </tr>\n",
              "    <tr>\n",
              "      <th>2</th>\n",
              "      <td>ive probably mentioned this before but i reall...</td>\n",
              "      <td>joy</td>\n",
              "    </tr>\n",
              "    <tr>\n",
              "      <th>3</th>\n",
              "      <td>i was feeling a little low few days back</td>\n",
              "      <td>sadness</td>\n",
              "    </tr>\n",
              "    <tr>\n",
              "      <th>4</th>\n",
              "      <td>i beleive that i am much more sensitive to oth...</td>\n",
              "      <td>love</td>\n",
              "    </tr>\n",
              "    <tr>\n",
              "      <th>...</th>\n",
              "      <td>...</td>\n",
              "      <td>...</td>\n",
              "    </tr>\n",
              "    <tr>\n",
              "      <th>416804</th>\n",
              "      <td>that was what i felt when i was finally accept...</td>\n",
              "      <td>joy</td>\n",
              "    </tr>\n",
              "    <tr>\n",
              "      <th>416805</th>\n",
              "      <td>i take every day as it comes i m just focussin...</td>\n",
              "      <td>fear</td>\n",
              "    </tr>\n",
              "    <tr>\n",
              "      <th>416806</th>\n",
              "      <td>i just suddenly feel that everything was fake</td>\n",
              "      <td>sadness</td>\n",
              "    </tr>\n",
              "    <tr>\n",
              "      <th>416807</th>\n",
              "      <td>im feeling more eager than ever to claw back w...</td>\n",
              "      <td>joy</td>\n",
              "    </tr>\n",
              "    <tr>\n",
              "      <th>416808</th>\n",
              "      <td>i give you plenty of attention even when i fee...</td>\n",
              "      <td>sadness</td>\n",
              "    </tr>\n",
              "  </tbody>\n",
              "</table>\n",
              "<p>416809 rows × 2 columns</p>\n",
              "</div>\n",
              "    <div class=\"colab-df-buttons\">\n",
              "\n",
              "  <div class=\"colab-df-container\">\n",
              "    <button class=\"colab-df-convert\" onclick=\"convertToInteractive('df-b6075097-5be4-4fd1-8000-1fba9b4f7612')\"\n",
              "            title=\"Convert this dataframe to an interactive table.\"\n",
              "            style=\"display:none;\">\n",
              "\n",
              "  <svg xmlns=\"http://www.w3.org/2000/svg\" height=\"24px\" viewBox=\"0 -960 960 960\">\n",
              "    <path d=\"M120-120v-720h720v720H120Zm60-500h600v-160H180v160Zm220 220h160v-160H400v160Zm0 220h160v-160H400v160ZM180-400h160v-160H180v160Zm440 0h160v-160H620v160ZM180-180h160v-160H180v160Zm440 0h160v-160H620v160Z\"/>\n",
              "  </svg>\n",
              "    </button>\n",
              "\n",
              "  <style>\n",
              "    .colab-df-container {\n",
              "      display:flex;\n",
              "      gap: 12px;\n",
              "    }\n",
              "\n",
              "    .colab-df-convert {\n",
              "      background-color: #E8F0FE;\n",
              "      border: none;\n",
              "      border-radius: 50%;\n",
              "      cursor: pointer;\n",
              "      display: none;\n",
              "      fill: #1967D2;\n",
              "      height: 32px;\n",
              "      padding: 0 0 0 0;\n",
              "      width: 32px;\n",
              "    }\n",
              "\n",
              "    .colab-df-convert:hover {\n",
              "      background-color: #E2EBFA;\n",
              "      box-shadow: 0px 1px 2px rgba(60, 64, 67, 0.3), 0px 1px 3px 1px rgba(60, 64, 67, 0.15);\n",
              "      fill: #174EA6;\n",
              "    }\n",
              "\n",
              "    .colab-df-buttons div {\n",
              "      margin-bottom: 4px;\n",
              "    }\n",
              "\n",
              "    [theme=dark] .colab-df-convert {\n",
              "      background-color: #3B4455;\n",
              "      fill: #D2E3FC;\n",
              "    }\n",
              "\n",
              "    [theme=dark] .colab-df-convert:hover {\n",
              "      background-color: #434B5C;\n",
              "      box-shadow: 0px 1px 3px 1px rgba(0, 0, 0, 0.15);\n",
              "      filter: drop-shadow(0px 1px 2px rgba(0, 0, 0, 0.3));\n",
              "      fill: #FFFFFF;\n",
              "    }\n",
              "  </style>\n",
              "\n",
              "    <script>\n",
              "      const buttonEl =\n",
              "        document.querySelector('#df-b6075097-5be4-4fd1-8000-1fba9b4f7612 button.colab-df-convert');\n",
              "      buttonEl.style.display =\n",
              "        google.colab.kernel.accessAllowed ? 'block' : 'none';\n",
              "\n",
              "      async function convertToInteractive(key) {\n",
              "        const element = document.querySelector('#df-b6075097-5be4-4fd1-8000-1fba9b4f7612');\n",
              "        const dataTable =\n",
              "          await google.colab.kernel.invokeFunction('convertToInteractive',\n",
              "                                                    [key], {});\n",
              "        if (!dataTable) return;\n",
              "\n",
              "        const docLinkHtml = 'Like what you see? Visit the ' +\n",
              "          '<a target=\"_blank\" href=https://colab.research.google.com/notebooks/data_table.ipynb>data table notebook</a>'\n",
              "          + ' to learn more about interactive tables.';\n",
              "        element.innerHTML = '';\n",
              "        dataTable['output_type'] = 'display_data';\n",
              "        await google.colab.output.renderOutput(dataTable, element);\n",
              "        const docLink = document.createElement('div');\n",
              "        docLink.innerHTML = docLinkHtml;\n",
              "        element.appendChild(docLink);\n",
              "      }\n",
              "    </script>\n",
              "  </div>\n",
              "\n",
              "\n",
              "<div id=\"df-a66445c3-e84e-4594-8093-a85b4b0997c1\">\n",
              "  <button class=\"colab-df-quickchart\" onclick=\"quickchart('df-a66445c3-e84e-4594-8093-a85b4b0997c1')\"\n",
              "            title=\"Suggest charts\"\n",
              "            style=\"display:none;\">\n",
              "\n",
              "<svg xmlns=\"http://www.w3.org/2000/svg\" height=\"24px\"viewBox=\"0 0 24 24\"\n",
              "     width=\"24px\">\n",
              "    <g>\n",
              "        <path d=\"M19 3H5c-1.1 0-2 .9-2 2v14c0 1.1.9 2 2 2h14c1.1 0 2-.9 2-2V5c0-1.1-.9-2-2-2zM9 17H7v-7h2v7zm4 0h-2V7h2v10zm4 0h-2v-4h2v4z\"/>\n",
              "    </g>\n",
              "</svg>\n",
              "  </button>\n",
              "\n",
              "<style>\n",
              "  .colab-df-quickchart {\n",
              "      --bg-color: #E8F0FE;\n",
              "      --fill-color: #1967D2;\n",
              "      --hover-bg-color: #E2EBFA;\n",
              "      --hover-fill-color: #174EA6;\n",
              "      --disabled-fill-color: #AAA;\n",
              "      --disabled-bg-color: #DDD;\n",
              "  }\n",
              "\n",
              "  [theme=dark] .colab-df-quickchart {\n",
              "      --bg-color: #3B4455;\n",
              "      --fill-color: #D2E3FC;\n",
              "      --hover-bg-color: #434B5C;\n",
              "      --hover-fill-color: #FFFFFF;\n",
              "      --disabled-bg-color: #3B4455;\n",
              "      --disabled-fill-color: #666;\n",
              "  }\n",
              "\n",
              "  .colab-df-quickchart {\n",
              "    background-color: var(--bg-color);\n",
              "    border: none;\n",
              "    border-radius: 50%;\n",
              "    cursor: pointer;\n",
              "    display: none;\n",
              "    fill: var(--fill-color);\n",
              "    height: 32px;\n",
              "    padding: 0;\n",
              "    width: 32px;\n",
              "  }\n",
              "\n",
              "  .colab-df-quickchart:hover {\n",
              "    background-color: var(--hover-bg-color);\n",
              "    box-shadow: 0 1px 2px rgba(60, 64, 67, 0.3), 0 1px 3px 1px rgba(60, 64, 67, 0.15);\n",
              "    fill: var(--button-hover-fill-color);\n",
              "  }\n",
              "\n",
              "  .colab-df-quickchart-complete:disabled,\n",
              "  .colab-df-quickchart-complete:disabled:hover {\n",
              "    background-color: var(--disabled-bg-color);\n",
              "    fill: var(--disabled-fill-color);\n",
              "    box-shadow: none;\n",
              "  }\n",
              "\n",
              "  .colab-df-spinner {\n",
              "    border: 2px solid var(--fill-color);\n",
              "    border-color: transparent;\n",
              "    border-bottom-color: var(--fill-color);\n",
              "    animation:\n",
              "      spin 1s steps(1) infinite;\n",
              "  }\n",
              "\n",
              "  @keyframes spin {\n",
              "    0% {\n",
              "      border-color: transparent;\n",
              "      border-bottom-color: var(--fill-color);\n",
              "      border-left-color: var(--fill-color);\n",
              "    }\n",
              "    20% {\n",
              "      border-color: transparent;\n",
              "      border-left-color: var(--fill-color);\n",
              "      border-top-color: var(--fill-color);\n",
              "    }\n",
              "    30% {\n",
              "      border-color: transparent;\n",
              "      border-left-color: var(--fill-color);\n",
              "      border-top-color: var(--fill-color);\n",
              "      border-right-color: var(--fill-color);\n",
              "    }\n",
              "    40% {\n",
              "      border-color: transparent;\n",
              "      border-right-color: var(--fill-color);\n",
              "      border-top-color: var(--fill-color);\n",
              "    }\n",
              "    60% {\n",
              "      border-color: transparent;\n",
              "      border-right-color: var(--fill-color);\n",
              "    }\n",
              "    80% {\n",
              "      border-color: transparent;\n",
              "      border-right-color: var(--fill-color);\n",
              "      border-bottom-color: var(--fill-color);\n",
              "    }\n",
              "    90% {\n",
              "      border-color: transparent;\n",
              "      border-bottom-color: var(--fill-color);\n",
              "    }\n",
              "  }\n",
              "</style>\n",
              "\n",
              "  <script>\n",
              "    async function quickchart(key) {\n",
              "      const quickchartButtonEl =\n",
              "        document.querySelector('#' + key + ' button');\n",
              "      quickchartButtonEl.disabled = true;  // To prevent multiple clicks.\n",
              "      quickchartButtonEl.classList.add('colab-df-spinner');\n",
              "      try {\n",
              "        const charts = await google.colab.kernel.invokeFunction(\n",
              "            'suggestCharts', [key], {});\n",
              "      } catch (error) {\n",
              "        console.error('Error during call to suggestCharts:', error);\n",
              "      }\n",
              "      quickchartButtonEl.classList.remove('colab-df-spinner');\n",
              "      quickchartButtonEl.classList.add('colab-df-quickchart-complete');\n",
              "    }\n",
              "    (() => {\n",
              "      let quickchartButtonEl =\n",
              "        document.querySelector('#df-a66445c3-e84e-4594-8093-a85b4b0997c1 button');\n",
              "      quickchartButtonEl.style.display =\n",
              "        google.colab.kernel.accessAllowed ? 'block' : 'none';\n",
              "    })();\n",
              "  </script>\n",
              "</div>\n",
              "    </div>\n",
              "  </div>\n"
            ],
            "application/vnd.google.colaboratory.intrinsic+json": {
              "type": "dataframe",
              "variable_name": "text_emotion_df"
            }
          },
          "metadata": {},
          "execution_count": 409
        }
      ],
      "source": [
        "text_emotion_df = text_emotion_dataset[\"train\"].to_pandas()\n",
        "text_emotion_df['label'] = text_emotion_df['label'].astype('category')\n",
        "text_emotion_df['label'] = text_emotion_df['label'].cat.rename_categories({0: \"sadness\", 1: \"joy\", 2: \"love\", 3: \"anger\", 4: \"fear\", 5: \"surprise\"})\n",
        "\n",
        "text_emotion_df"
      ]
    },
    {
      "cell_type": "markdown",
      "source": [
        "# Text Preprocessing"
      ],
      "metadata": {
        "id": "XvhfEJuUmAS0"
      }
    },
    {
      "cell_type": "markdown",
      "source": [
        "Firstly, combine all 3 datasets together."
      ],
      "metadata": {
        "id": "TV43clJfmPYs"
      }
    },
    {
      "cell_type": "code",
      "execution_count": 410,
      "metadata": {
        "colab": {
          "base_uri": "https://localhost:8080/",
          "height": 424
        },
        "id": "IhiRYCsvXrvd",
        "outputId": "dd356aab-fbc6-423a-fd30-5c80445d8bb9"
      },
      "outputs": [
        {
          "output_type": "execute_result",
          "data": {
            "text/plain": [
              "                                                     text       label\n",
              "0       “Worry is a down payment on a problem you may ...    optimism\n",
              "1       My roommate: it's okay that we can't spell bec...       anger\n",
              "2       No but that's so cute. Atsu was probably shy a...         joy\n",
              "3       Rooneys fucking untouchable isn't he? Been fuc...       anger\n",
              "4       it's pretty depressing when u hit pan on ur fa...     sadness\n",
              "...                                                   ...         ...\n",
              "171815  Well, I'm glad you're out of all that now. How...         joy\n",
              "171816                             Everyone likes [NAME].        love\n",
              "171817  Well when you’ve imported about a gazillion of...      caring\n",
              "171818                                 That looks amazing  admiration\n",
              "171819  The FDA has plenty to criticize. But like here...       anger\n",
              "\n",
              "[593681 rows x 2 columns]"
            ],
            "text/html": [
              "\n",
              "  <div id=\"df-e722e45a-bf27-4245-80c4-e5ea664acf95\" class=\"colab-df-container\">\n",
              "    <div>\n",
              "<style scoped>\n",
              "    .dataframe tbody tr th:only-of-type {\n",
              "        vertical-align: middle;\n",
              "    }\n",
              "\n",
              "    .dataframe tbody tr th {\n",
              "        vertical-align: top;\n",
              "    }\n",
              "\n",
              "    .dataframe thead th {\n",
              "        text-align: right;\n",
              "    }\n",
              "</style>\n",
              "<table border=\"1\" class=\"dataframe\">\n",
              "  <thead>\n",
              "    <tr style=\"text-align: right;\">\n",
              "      <th></th>\n",
              "      <th>text</th>\n",
              "      <th>label</th>\n",
              "    </tr>\n",
              "  </thead>\n",
              "  <tbody>\n",
              "    <tr>\n",
              "      <th>0</th>\n",
              "      <td>“Worry is a down payment on a problem you may ...</td>\n",
              "      <td>optimism</td>\n",
              "    </tr>\n",
              "    <tr>\n",
              "      <th>1</th>\n",
              "      <td>My roommate: it's okay that we can't spell bec...</td>\n",
              "      <td>anger</td>\n",
              "    </tr>\n",
              "    <tr>\n",
              "      <th>2</th>\n",
              "      <td>No but that's so cute. Atsu was probably shy a...</td>\n",
              "      <td>joy</td>\n",
              "    </tr>\n",
              "    <tr>\n",
              "      <th>3</th>\n",
              "      <td>Rooneys fucking untouchable isn't he? Been fuc...</td>\n",
              "      <td>anger</td>\n",
              "    </tr>\n",
              "    <tr>\n",
              "      <th>4</th>\n",
              "      <td>it's pretty depressing when u hit pan on ur fa...</td>\n",
              "      <td>sadness</td>\n",
              "    </tr>\n",
              "    <tr>\n",
              "      <th>...</th>\n",
              "      <td>...</td>\n",
              "      <td>...</td>\n",
              "    </tr>\n",
              "    <tr>\n",
              "      <th>171815</th>\n",
              "      <td>Well, I'm glad you're out of all that now. How...</td>\n",
              "      <td>joy</td>\n",
              "    </tr>\n",
              "    <tr>\n",
              "      <th>171816</th>\n",
              "      <td>Everyone likes [NAME].</td>\n",
              "      <td>love</td>\n",
              "    </tr>\n",
              "    <tr>\n",
              "      <th>171817</th>\n",
              "      <td>Well when you’ve imported about a gazillion of...</td>\n",
              "      <td>caring</td>\n",
              "    </tr>\n",
              "    <tr>\n",
              "      <th>171818</th>\n",
              "      <td>That looks amazing</td>\n",
              "      <td>admiration</td>\n",
              "    </tr>\n",
              "    <tr>\n",
              "      <th>171819</th>\n",
              "      <td>The FDA has plenty to criticize. But like here...</td>\n",
              "      <td>anger</td>\n",
              "    </tr>\n",
              "  </tbody>\n",
              "</table>\n",
              "<p>593681 rows × 2 columns</p>\n",
              "</div>\n",
              "    <div class=\"colab-df-buttons\">\n",
              "\n",
              "  <div class=\"colab-df-container\">\n",
              "    <button class=\"colab-df-convert\" onclick=\"convertToInteractive('df-e722e45a-bf27-4245-80c4-e5ea664acf95')\"\n",
              "            title=\"Convert this dataframe to an interactive table.\"\n",
              "            style=\"display:none;\">\n",
              "\n",
              "  <svg xmlns=\"http://www.w3.org/2000/svg\" height=\"24px\" viewBox=\"0 -960 960 960\">\n",
              "    <path d=\"M120-120v-720h720v720H120Zm60-500h600v-160H180v160Zm220 220h160v-160H400v160Zm0 220h160v-160H400v160ZM180-400h160v-160H180v160Zm440 0h160v-160H620v160ZM180-180h160v-160H180v160Zm440 0h160v-160H620v160Z\"/>\n",
              "  </svg>\n",
              "    </button>\n",
              "\n",
              "  <style>\n",
              "    .colab-df-container {\n",
              "      display:flex;\n",
              "      gap: 12px;\n",
              "    }\n",
              "\n",
              "    .colab-df-convert {\n",
              "      background-color: #E8F0FE;\n",
              "      border: none;\n",
              "      border-radius: 50%;\n",
              "      cursor: pointer;\n",
              "      display: none;\n",
              "      fill: #1967D2;\n",
              "      height: 32px;\n",
              "      padding: 0 0 0 0;\n",
              "      width: 32px;\n",
              "    }\n",
              "\n",
              "    .colab-df-convert:hover {\n",
              "      background-color: #E2EBFA;\n",
              "      box-shadow: 0px 1px 2px rgba(60, 64, 67, 0.3), 0px 1px 3px 1px rgba(60, 64, 67, 0.15);\n",
              "      fill: #174EA6;\n",
              "    }\n",
              "\n",
              "    .colab-df-buttons div {\n",
              "      margin-bottom: 4px;\n",
              "    }\n",
              "\n",
              "    [theme=dark] .colab-df-convert {\n",
              "      background-color: #3B4455;\n",
              "      fill: #D2E3FC;\n",
              "    }\n",
              "\n",
              "    [theme=dark] .colab-df-convert:hover {\n",
              "      background-color: #434B5C;\n",
              "      box-shadow: 0px 1px 3px 1px rgba(0, 0, 0, 0.15);\n",
              "      filter: drop-shadow(0px 1px 2px rgba(0, 0, 0, 0.3));\n",
              "      fill: #FFFFFF;\n",
              "    }\n",
              "  </style>\n",
              "\n",
              "    <script>\n",
              "      const buttonEl =\n",
              "        document.querySelector('#df-e722e45a-bf27-4245-80c4-e5ea664acf95 button.colab-df-convert');\n",
              "      buttonEl.style.display =\n",
              "        google.colab.kernel.accessAllowed ? 'block' : 'none';\n",
              "\n",
              "      async function convertToInteractive(key) {\n",
              "        const element = document.querySelector('#df-e722e45a-bf27-4245-80c4-e5ea664acf95');\n",
              "        const dataTable =\n",
              "          await google.colab.kernel.invokeFunction('convertToInteractive',\n",
              "                                                    [key], {});\n",
              "        if (!dataTable) return;\n",
              "\n",
              "        const docLinkHtml = 'Like what you see? Visit the ' +\n",
              "          '<a target=\"_blank\" href=https://colab.research.google.com/notebooks/data_table.ipynb>data table notebook</a>'\n",
              "          + ' to learn more about interactive tables.';\n",
              "        element.innerHTML = '';\n",
              "        dataTable['output_type'] = 'display_data';\n",
              "        await google.colab.output.renderOutput(dataTable, element);\n",
              "        const docLink = document.createElement('div');\n",
              "        docLink.innerHTML = docLinkHtml;\n",
              "        element.appendChild(docLink);\n",
              "      }\n",
              "    </script>\n",
              "  </div>\n",
              "\n",
              "\n",
              "<div id=\"df-f560b6db-b197-47a2-8d6c-e765c0c31e3a\">\n",
              "  <button class=\"colab-df-quickchart\" onclick=\"quickchart('df-f560b6db-b197-47a2-8d6c-e765c0c31e3a')\"\n",
              "            title=\"Suggest charts\"\n",
              "            style=\"display:none;\">\n",
              "\n",
              "<svg xmlns=\"http://www.w3.org/2000/svg\" height=\"24px\"viewBox=\"0 0 24 24\"\n",
              "     width=\"24px\">\n",
              "    <g>\n",
              "        <path d=\"M19 3H5c-1.1 0-2 .9-2 2v14c0 1.1.9 2 2 2h14c1.1 0 2-.9 2-2V5c0-1.1-.9-2-2-2zM9 17H7v-7h2v7zm4 0h-2V7h2v10zm4 0h-2v-4h2v4z\"/>\n",
              "    </g>\n",
              "</svg>\n",
              "  </button>\n",
              "\n",
              "<style>\n",
              "  .colab-df-quickchart {\n",
              "      --bg-color: #E8F0FE;\n",
              "      --fill-color: #1967D2;\n",
              "      --hover-bg-color: #E2EBFA;\n",
              "      --hover-fill-color: #174EA6;\n",
              "      --disabled-fill-color: #AAA;\n",
              "      --disabled-bg-color: #DDD;\n",
              "  }\n",
              "\n",
              "  [theme=dark] .colab-df-quickchart {\n",
              "      --bg-color: #3B4455;\n",
              "      --fill-color: #D2E3FC;\n",
              "      --hover-bg-color: #434B5C;\n",
              "      --hover-fill-color: #FFFFFF;\n",
              "      --disabled-bg-color: #3B4455;\n",
              "      --disabled-fill-color: #666;\n",
              "  }\n",
              "\n",
              "  .colab-df-quickchart {\n",
              "    background-color: var(--bg-color);\n",
              "    border: none;\n",
              "    border-radius: 50%;\n",
              "    cursor: pointer;\n",
              "    display: none;\n",
              "    fill: var(--fill-color);\n",
              "    height: 32px;\n",
              "    padding: 0;\n",
              "    width: 32px;\n",
              "  }\n",
              "\n",
              "  .colab-df-quickchart:hover {\n",
              "    background-color: var(--hover-bg-color);\n",
              "    box-shadow: 0 1px 2px rgba(60, 64, 67, 0.3), 0 1px 3px 1px rgba(60, 64, 67, 0.15);\n",
              "    fill: var(--button-hover-fill-color);\n",
              "  }\n",
              "\n",
              "  .colab-df-quickchart-complete:disabled,\n",
              "  .colab-df-quickchart-complete:disabled:hover {\n",
              "    background-color: var(--disabled-bg-color);\n",
              "    fill: var(--disabled-fill-color);\n",
              "    box-shadow: none;\n",
              "  }\n",
              "\n",
              "  .colab-df-spinner {\n",
              "    border: 2px solid var(--fill-color);\n",
              "    border-color: transparent;\n",
              "    border-bottom-color: var(--fill-color);\n",
              "    animation:\n",
              "      spin 1s steps(1) infinite;\n",
              "  }\n",
              "\n",
              "  @keyframes spin {\n",
              "    0% {\n",
              "      border-color: transparent;\n",
              "      border-bottom-color: var(--fill-color);\n",
              "      border-left-color: var(--fill-color);\n",
              "    }\n",
              "    20% {\n",
              "      border-color: transparent;\n",
              "      border-left-color: var(--fill-color);\n",
              "      border-top-color: var(--fill-color);\n",
              "    }\n",
              "    30% {\n",
              "      border-color: transparent;\n",
              "      border-left-color: var(--fill-color);\n",
              "      border-top-color: var(--fill-color);\n",
              "      border-right-color: var(--fill-color);\n",
              "    }\n",
              "    40% {\n",
              "      border-color: transparent;\n",
              "      border-right-color: var(--fill-color);\n",
              "      border-top-color: var(--fill-color);\n",
              "    }\n",
              "    60% {\n",
              "      border-color: transparent;\n",
              "      border-right-color: var(--fill-color);\n",
              "    }\n",
              "    80% {\n",
              "      border-color: transparent;\n",
              "      border-right-color: var(--fill-color);\n",
              "      border-bottom-color: var(--fill-color);\n",
              "    }\n",
              "    90% {\n",
              "      border-color: transparent;\n",
              "      border-bottom-color: var(--fill-color);\n",
              "    }\n",
              "  }\n",
              "</style>\n",
              "\n",
              "  <script>\n",
              "    async function quickchart(key) {\n",
              "      const quickchartButtonEl =\n",
              "        document.querySelector('#' + key + ' button');\n",
              "      quickchartButtonEl.disabled = true;  // To prevent multiple clicks.\n",
              "      quickchartButtonEl.classList.add('colab-df-spinner');\n",
              "      try {\n",
              "        const charts = await google.colab.kernel.invokeFunction(\n",
              "            'suggestCharts', [key], {});\n",
              "      } catch (error) {\n",
              "        console.error('Error during call to suggestCharts:', error);\n",
              "      }\n",
              "      quickchartButtonEl.classList.remove('colab-df-spinner');\n",
              "      quickchartButtonEl.classList.add('colab-df-quickchart-complete');\n",
              "    }\n",
              "    (() => {\n",
              "      let quickchartButtonEl =\n",
              "        document.querySelector('#df-f560b6db-b197-47a2-8d6c-e765c0c31e3a button');\n",
              "      quickchartButtonEl.style.display =\n",
              "        google.colab.kernel.accessAllowed ? 'block' : 'none';\n",
              "    })();\n",
              "  </script>\n",
              "</div>\n",
              "    </div>\n",
              "  </div>\n"
            ],
            "application/vnd.google.colaboratory.intrinsic+json": {
              "type": "dataframe",
              "variable_name": "emotion_df"
            }
          },
          "metadata": {},
          "execution_count": 410
        }
      ],
      "source": [
        "emotion_df = pd.concat([twitter_emotion_df, text_emotion_df, reddit_emotion_dataset])\n",
        "emotion_df"
      ]
    },
    {
      "cell_type": "code",
      "execution_count": 411,
      "metadata": {
        "colab": {
          "base_uri": "https://localhost:8080/",
          "height": 568
        },
        "id": "G30vOI6uXrvd",
        "outputId": "83e14647-2fcb-4a1d-87ee-2307d44742d6"
      },
      "outputs": [
        {
          "output_type": "display_data",
          "data": {
            "text/plain": [
              "<Figure size 640x480 with 1 Axes>"
            ],
            "image/png": "[encoded data removed]"
          },
          "metadata": {}
        }
      ],
      "source": [
        "emotions_count = emotion_df['label'].value_counts()\n",
        "\n",
        "emotions_count.plot(kind='bar')\n",
        "plt.title('Distribution of Feature')\n",
        "plt.xlabel('Value')\n",
        "plt.ylabel('Frequency')\n",
        "plt.show()"
      ]
    },
    {
      "cell_type": "markdown",
      "source": [
        "Leave only the necessary classes with most of the data"
      ],
      "metadata": {
        "id": "n0veW8PKmU3P"
      }
    },
    {
      "cell_type": "code",
      "execution_count": 412,
      "metadata": {
        "colab": {
          "base_uri": "https://localhost:8080/",
          "height": 424
        },
        "id": "RukqOL_aXrvd",
        "outputId": "3ef86322-77df-41a7-a843-276aae4bdaa1"
      },
      "outputs": [
        {
          "output_type": "execute_result",
          "data": {
            "text/plain": [
              "                                                     text     label\n",
              "0                    Damn, sometimes I love people here.       love\n",
              "1       i can see why people adored this character but...   sadness\n",
              "2       i feel just one thing from my mind that those ...      love\n",
              "3       i read her post i thought about how differentl...     anger\n",
              "4                                       But he wanted to!   neutral\n",
              "...                                                   ...       ...\n",
              "500274  i feel cold and i feel so bored i am trapped i...     anger\n",
              "500275  i feel indeed tvxq is highly respected in the ...       joy\n",
              "500276                   i feel too stupid to blay pridge   sadness\n",
              "500277  i feel weird about immersing myself in a kid c...  surprise\n",
              "500278  i feel like an abused wife telling my friends ...   sadness\n",
              "\n",
              "[500279 rows x 2 columns]"
            ],
            "text/html": [
              "\n",
              "  <div id=\"df-4b0963ad-e48a-447b-ba68-caf29ec0c102\" class=\"colab-df-container\">\n",
              "    <div>\n",
              "<style scoped>\n",
              "    .dataframe tbody tr th:only-of-type {\n",
              "        vertical-align: middle;\n",
              "    }\n",
              "\n",
              "    .dataframe tbody tr th {\n",
              "        vertical-align: top;\n",
              "    }\n",
              "\n",
              "    .dataframe thead th {\n",
              "        text-align: right;\n",
              "    }\n",
              "</style>\n",
              "<table border=\"1\" class=\"dataframe\">\n",
              "  <thead>\n",
              "    <tr style=\"text-align: right;\">\n",
              "      <th></th>\n",
              "      <th>text</th>\n",
              "      <th>label</th>\n",
              "    </tr>\n",
              "  </thead>\n",
              "  <tbody>\n",
              "    <tr>\n",
              "      <th>0</th>\n",
              "      <td>Damn, sometimes I love people here.</td>\n",
              "      <td>love</td>\n",
              "    </tr>\n",
              "    <tr>\n",
              "      <th>1</th>\n",
              "      <td>i can see why people adored this character but...</td>\n",
              "      <td>sadness</td>\n",
              "    </tr>\n",
              "    <tr>\n",
              "      <th>2</th>\n",
              "      <td>i feel just one thing from my mind that those ...</td>\n",
              "      <td>love</td>\n",
              "    </tr>\n",
              "    <tr>\n",
              "      <th>3</th>\n",
              "      <td>i read her post i thought about how differentl...</td>\n",
              "      <td>anger</td>\n",
              "    </tr>\n",
              "    <tr>\n",
              "      <th>4</th>\n",
              "      <td>But he wanted to!</td>\n",
              "      <td>neutral</td>\n",
              "    </tr>\n",
              "    <tr>\n",
              "      <th>...</th>\n",
              "      <td>...</td>\n",
              "      <td>...</td>\n",
              "    </tr>\n",
              "    <tr>\n",
              "      <th>500274</th>\n",
              "      <td>i feel cold and i feel so bored i am trapped i...</td>\n",
              "      <td>anger</td>\n",
              "    </tr>\n",
              "    <tr>\n",
              "      <th>500275</th>\n",
              "      <td>i feel indeed tvxq is highly respected in the ...</td>\n",
              "      <td>joy</td>\n",
              "    </tr>\n",
              "    <tr>\n",
              "      <th>500276</th>\n",
              "      <td>i feel too stupid to blay pridge</td>\n",
              "      <td>sadness</td>\n",
              "    </tr>\n",
              "    <tr>\n",
              "      <th>500277</th>\n",
              "      <td>i feel weird about immersing myself in a kid c...</td>\n",
              "      <td>surprise</td>\n",
              "    </tr>\n",
              "    <tr>\n",
              "      <th>500278</th>\n",
              "      <td>i feel like an abused wife telling my friends ...</td>\n",
              "      <td>sadness</td>\n",
              "    </tr>\n",
              "  </tbody>\n",
              "</table>\n",
              "<p>500279 rows × 2 columns</p>\n",
              "</div>\n",
              "    <div class=\"colab-df-buttons\">\n",
              "\n",
              "  <div class=\"colab-df-container\">\n",
              "    <button class=\"colab-df-convert\" onclick=\"convertToInteractive('df-4b0963ad-e48a-447b-ba68-caf29ec0c102')\"\n",
              "            title=\"Convert this dataframe to an interactive table.\"\n",
              "            style=\"display:none;\">\n",
              "\n",
              "  <svg xmlns=\"http://www.w3.org/2000/svg\" height=\"24px\" viewBox=\"0 -960 960 960\">\n",
              "    <path d=\"M120-120v-720h720v720H120Zm60-500h600v-160H180v160Zm220 220h160v-160H400v160Zm0 220h160v-160H400v160ZM180-400h160v-160H180v160Zm440 0h160v-160H620v160ZM180-180h160v-160H180v160Zm440 0h160v-160H620v160Z\"/>\n",
              "  </svg>\n",
              "    </button>\n",
              "\n",
              "  <style>\n",
              "    .colab-df-container {\n",
              "      display:flex;\n",
              "      gap: 12px;\n",
              "    }\n",
              "\n",
              "    .colab-df-convert {\n",
              "      background-color: #E8F0FE;\n",
              "      border: none;\n",
              "      border-radius: 50%;\n",
              "      cursor: pointer;\n",
              "      display: none;\n",
              "      fill: #1967D2;\n",
              "      height: 32px;\n",
              "      padding: 0 0 0 0;\n",
              "      width: 32px;\n",
              "    }\n",
              "\n",
              "    .colab-df-convert:hover {\n",
              "      background-color: #E2EBFA;\n",
              "      box-shadow: 0px 1px 2px rgba(60, 64, 67, 0.3), 0px 1px 3px 1px rgba(60, 64, 67, 0.15);\n",
              "      fill: #174EA6;\n",
              "    }\n",
              "\n",
              "    .colab-df-buttons div {\n",
              "      margin-bottom: 4px;\n",
              "    }\n",
              "\n",
              "    [theme=dark] .colab-df-convert {\n",
              "      background-color: #3B4455;\n",
              "      fill: #D2E3FC;\n",
              "    }\n",
              "\n",
              "    [theme=dark] .colab-df-convert:hover {\n",
              "      background-color: #434B5C;\n",
              "      box-shadow: 0px 1px 3px 1px rgba(0, 0, 0, 0.15);\n",
              "      filter: drop-shadow(0px 1px 2px rgba(0, 0, 0, 0.3));\n",
              "      fill: #FFFFFF;\n",
              "    }\n",
              "  </style>\n",
              "\n",
              "    <script>\n",
              "      const buttonEl =\n",
              "        document.querySelector('#df-4b0963ad-e48a-447b-ba68-caf29ec0c102 button.colab-df-convert');\n",
              "      buttonEl.style.display =\n",
              "        google.colab.kernel.accessAllowed ? 'block' : 'none';\n",
              "\n",
              "      async function convertToInteractive(key) {\n",
              "        const element = document.querySelector('#df-4b0963ad-e48a-447b-ba68-caf29ec0c102');\n",
              "        const dataTable =\n",
              "          await google.colab.kernel.invokeFunction('convertToInteractive',\n",
              "                                                    [key], {});\n",
              "        if (!dataTable) return;\n",
              "\n",
              "        const docLinkHtml = 'Like what you see? Visit the ' +\n",
              "          '<a target=\"_blank\" href=https://colab.research.google.com/notebooks/data_table.ipynb>data table notebook</a>'\n",
              "          + ' to learn more about interactive tables.';\n",
              "        element.innerHTML = '';\n",
              "        dataTable['output_type'] = 'display_data';\n",
              "        await google.colab.output.renderOutput(dataTable, element);\n",
              "        const docLink = document.createElement('div');\n",
              "        docLink.innerHTML = docLinkHtml;\n",
              "        element.appendChild(docLink);\n",
              "      }\n",
              "    </script>\n",
              "  </div>\n",
              "\n",
              "\n",
              "<div id=\"df-5b1f7fbe-00e5-421f-90f5-15752ca19812\">\n",
              "  <button class=\"colab-df-quickchart\" onclick=\"quickchart('df-5b1f7fbe-00e5-421f-90f5-15752ca19812')\"\n",
              "            title=\"Suggest charts\"\n",
              "            style=\"display:none;\">\n",
              "\n",
              "<svg xmlns=\"http://www.w3.org/2000/svg\" height=\"24px\"viewBox=\"0 0 24 24\"\n",
              "     width=\"24px\">\n",
              "    <g>\n",
              "        <path d=\"M19 3H5c-1.1 0-2 .9-2 2v14c0 1.1.9 2 2 2h14c1.1 0 2-.9 2-2V5c0-1.1-.9-2-2-2zM9 17H7v-7h2v7zm4 0h-2V7h2v10zm4 0h-2v-4h2v4z\"/>\n",
              "    </g>\n",
              "</svg>\n",
              "  </button>\n",
              "\n",
              "<style>\n",
              "  .colab-df-quickchart {\n",
              "      --bg-color: #E8F0FE;\n",
              "      --fill-color: #1967D2;\n",
              "      --hover-bg-color: #E2EBFA;\n",
              "      --hover-fill-color: #174EA6;\n",
              "      --disabled-fill-color: #AAA;\n",
              "      --disabled-bg-color: #DDD;\n",
              "  }\n",
              "\n",
              "  [theme=dark] .colab-df-quickchart {\n",
              "      --bg-color: #3B4455;\n",
              "      --fill-color: #D2E3FC;\n",
              "      --hover-bg-color: #434B5C;\n",
              "      --hover-fill-color: #FFFFFF;\n",
              "      --disabled-bg-color: #3B4455;\n",
              "      --disabled-fill-color: #666;\n",
              "  }\n",
              "\n",
              "  .colab-df-quickchart {\n",
              "    background-color: var(--bg-color);\n",
              "    border: none;\n",
              "    border-radius: 50%;\n",
              "    cursor: pointer;\n",
              "    display: none;\n",
              "    fill: var(--fill-color);\n",
              "    height: 32px;\n",
              "    padding: 0;\n",
              "    width: 32px;\n",
              "  }\n",
              "\n",
              "  .colab-df-quickchart:hover {\n",
              "    background-color: var(--hover-bg-color);\n",
              "    box-shadow: 0 1px 2px rgba(60, 64, 67, 0.3), 0 1px 3px 1px rgba(60, 64, 67, 0.15);\n",
              "    fill: var(--button-hover-fill-color);\n",
              "  }\n",
              "\n",
              "  .colab-df-quickchart-complete:disabled,\n",
              "  .colab-df-quickchart-complete:disabled:hover {\n",
              "    background-color: var(--disabled-bg-color);\n",
              "    fill: var(--disabled-fill-color);\n",
              "    box-shadow: none;\n",
              "  }\n",
              "\n",
              "  .colab-df-spinner {\n",
              "    border: 2px solid var(--fill-color);\n",
              "    border-color: transparent;\n",
              "    border-bottom-color: var(--fill-color);\n",
              "    animation:\n",
              "      spin 1s steps(1) infinite;\n",
              "  }\n",
              "\n",
              "  @keyframes spin {\n",
              "    0% {\n",
              "      border-color: transparent;\n",
              "      border-bottom-color: var(--fill-color);\n",
              "      border-left-color: var(--fill-color);\n",
              "    }\n",
              "    20% {\n",
              "      border-color: transparent;\n",
              "      border-left-color: var(--fill-color);\n",
              "      border-top-color: var(--fill-color);\n",
              "    }\n",
              "    30% {\n",
              "      border-color: transparent;\n",
              "      border-left-color: var(--fill-color);\n",
              "      border-top-color: var(--fill-color);\n",
              "      border-right-color: var(--fill-color);\n",
              "    }\n",
              "    40% {\n",
              "      border-color: transparent;\n",
              "      border-right-color: var(--fill-color);\n",
              "      border-top-color: var(--fill-color);\n",
              "    }\n",
              "    60% {\n",
              "      border-color: transparent;\n",
              "      border-right-color: var(--fill-color);\n",
              "    }\n",
              "    80% {\n",
              "      border-color: transparent;\n",
              "      border-right-color: var(--fill-color);\n",
              "      border-bottom-color: var(--fill-color);\n",
              "    }\n",
              "    90% {\n",
              "      border-color: transparent;\n",
              "      border-bottom-color: var(--fill-color);\n",
              "    }\n",
              "  }\n",
              "</style>\n",
              "\n",
              "  <script>\n",
              "    async function quickchart(key) {\n",
              "      const quickchartButtonEl =\n",
              "        document.querySelector('#' + key + ' button');\n",
              "      quickchartButtonEl.disabled = true;  // To prevent multiple clicks.\n",
              "      quickchartButtonEl.classList.add('colab-df-spinner');\n",
              "      try {\n",
              "        const charts = await google.colab.kernel.invokeFunction(\n",
              "            'suggestCharts', [key], {});\n",
              "      } catch (error) {\n",
              "        console.error('Error during call to suggestCharts:', error);\n",
              "      }\n",
              "      quickchartButtonEl.classList.remove('colab-df-spinner');\n",
              "      quickchartButtonEl.classList.add('colab-df-quickchart-complete');\n",
              "    }\n",
              "    (() => {\n",
              "      let quickchartButtonEl =\n",
              "        document.querySelector('#df-5b1f7fbe-00e5-421f-90f5-15752ca19812 button');\n",
              "      quickchartButtonEl.style.display =\n",
              "        google.colab.kernel.accessAllowed ? 'block' : 'none';\n",
              "    })();\n",
              "  </script>\n",
              "</div>\n",
              "    </div>\n",
              "  </div>\n"
            ],
            "application/vnd.google.colaboratory.intrinsic+json": {
              "type": "dataframe",
              "variable_name": "emotion_df"
            }
          },
          "metadata": {},
          "execution_count": 412
        }
      ],
      "source": [
        "emotion_df = emotion_df[emotion_df.label.isin([\"text\", \"joy\", \"sadness\", \"anger\", \"neutral\", \"fear\", \"love\", \"surprise\"])]\n",
        "emotion_df = shuffle(emotion_df).reset_index(drop=True)\n",
        "emotion_df"
      ]
    },
    {
      "cell_type": "code",
      "execution_count": 413,
      "metadata": {
        "colab": {
          "base_uri": "https://localhost:8080/",
          "height": 514
        },
        "id": "nK-8H7bmXrvd",
        "outputId": "e2242183-3d9a-4fde-f7c9-6c5fc6fcf63d"
      },
      "outputs": [
        {
          "output_type": "display_data",
          "data": {
            "text/plain": [
              "<Figure size 640x480 with 1 Axes>"
            ],
            "image/png": "[encoded data removed]"
          },
          "metadata": {}
        }
      ],
      "source": [
        "emotions_count = emotion_df['label'].value_counts()\n",
        "\n",
        "emotions_count.plot(kind='bar')\n",
        "plt.title('Distribution of Feature')\n",
        "plt.xlabel('Value')\n",
        "plt.ylabel('Frequency')\n",
        "plt.show()"
      ]
    },
    {
      "cell_type": "markdown",
      "source": [
        "Balance dataset"
      ],
      "metadata": {
        "id": "dqQ5RySymmWY"
      }
    },
    {
      "cell_type": "code",
      "execution_count": 414,
      "metadata": {
        "id": "XOyIKOTYuMQZ"
      },
      "outputs": [],
      "source": [
        "SAMPLES_PER_CLASS = 65000\n",
        "balanced_emotion_df = emotion_df.groupby('label').apply(lambda x: x.sample(SAMPLES_PER_CLASS) if len(x) > SAMPLES_PER_CLASS else x)\n",
        "balanced_emotion_df = balanced_emotion_df.sample(frac=1).reset_index(drop=True)\n",
        "balanced_emotion_df = balanced_emotion_df.dropna()"
      ]
    },
    {
      "cell_type": "code",
      "execution_count": 415,
      "metadata": {
        "id": "_-ucS5IEmVQ0",
        "colab": {
          "base_uri": "https://localhost:8080/",
          "height": 514
        },
        "outputId": "b0dfc1a5-621c-46c9-f8a5-0f86391cb809"
      },
      "outputs": [
        {
          "output_type": "display_data",
          "data": {
            "text/plain": [
              "<Figure size 640x480 with 1 Axes>"
            ],
            "image/png": "[encoded data removed]"
          },
          "metadata": {}
        }
      ],
      "source": [
        "emotions_count = balanced_emotion_df['label'].value_counts()\n",
        "\n",
        "emotions_count.plot(kind='bar')\n",
        "plt.title('Distribution of Feature')\n",
        "plt.xlabel('Value')\n",
        "plt.ylabel('Frequency')\n",
        "plt.show()"
      ]
    },
    {
      "cell_type": "code",
      "execution_count": 416,
      "metadata": {
        "id": "Tq3lPhI_Xrvd"
      },
      "outputs": [],
      "source": [
        "emotion_df['text']=emotion_df['text'].str.lower()"
      ]
    },
    {
      "cell_type": "code",
      "source": [
        "def expand_contractions(data):\n",
        "  return contractions.fix(data)\n",
        "\n",
        "emotion_df['text']= emotion_df['text'].apply(lambda x: expand_contractions(x))"
      ],
      "metadata": {
        "id": "JhFyoXcm3dEt"
      },
      "execution_count": 417,
      "outputs": []
    },
    {
      "cell_type": "code",
      "execution_count": 418,
      "metadata": {
        "id": "Vf4_s7TJaX9w"
      },
      "outputs": [],
      "source": [
        "retain_words = {'not', 'no', 'nor', \"don't\", \"aren't\", \"couldn't\", \"didn't\", \"doesn't\", \"hadn't\",\n",
        "                \"hasn't\", \"haven't\", \"isn't\", \"mustn't\", \"needn't\", \"shan't\", \"shouldn't\", \"wasn't\",\n",
        "                \"weren't\", \"won't\", \"wouldn't\", \"but\", \"didn\", \"mightn't\", \"against\", \"wouldn\", \"weren\", \"aren\",\n",
        "                \"ain\", \"won\", \"t\", \"s\", \"needn\", \"couldn\", \"d\", \"doesn\", \"don\",  'should', \"should've\",'shouldn', \"over\"}\n",
        "\n",
        "stopwords_set = set(stopwords.words('english')) - retain_words"
      ]
    },
    {
      "cell_type": "code",
      "execution_count": 419,
      "metadata": {
        "id": "DZH4quyaXrvd"
      },
      "outputs": [],
      "source": [
        "def cleaning_email(data):\n",
        "    return re.sub('@[^\\s]+', '', data)\n",
        "\n",
        "def cleaning_numbers(data):\n",
        "    return re.sub('[0-9]+', '', data)\n",
        "\n",
        "def cleaning_apostrophs(data):\n",
        "    return re.sub('\\'', '', data)\n",
        "\n",
        "def cleaning_URLs(data):\n",
        "    return re.sub('((www\\.[^\\s]+)|(https?://[^\\s]+))','', data)\n",
        "\n",
        "emotion_df['text']= emotion_df['text'].apply(lambda x: cleaning_email(x))\n",
        "emotion_df['text']= emotion_df['text'].apply(lambda x: cleaning_numbers(x))\n",
        "emotion_df['text'] = emotion_df['text'].apply(lambda x: cleaning_URLs(x))\n",
        "emotion_df['text']= emotion_df['text'].apply(lambda x: cleaning_apostrophs(x))\n",
        "\n",
        "emotion_df['text'] = emotion_df['text'].str.replace(r'\\s+', ' ', regex=True)\n"
      ]
    },
    {
      "cell_type": "code",
      "execution_count": 420,
      "metadata": {
        "id": "INLYlPYjb74T"
      },
      "outputs": [],
      "source": [
        "def remove_stopwords(data):\n",
        "  data = re.split(r\"(\\s+)\", data)\n",
        "  output_data = \"\"\n",
        "  for word in data:\n",
        "    if word in stopwords_set:\n",
        "      output_data = output_data\n",
        "    else:\n",
        "      output_data += word\n",
        "\n",
        "  return output_data.strip()"
      ]
    },
    {
      "cell_type": "code",
      "source": [
        "def cleaning_punct(data):\n",
        "    punct_to_remove = string.punctuation.replace('!', '').replace('?', '')\n",
        "    pattern = f\"[{re.escape(punct_to_remove)}]\"\n",
        "    return re.sub(pattern, '', data)\n",
        "\n",
        "emotion_df['text']= emotion_df['text'].apply(lambda x: cleaning_punct(x))"
      ],
      "metadata": {
        "id": "LFaQecA3a5PU"
      },
      "execution_count": 421,
      "outputs": []
    },
    {
      "cell_type": "markdown",
      "source": [
        "https://towardsdatascience.com/increasing-accuracy-of-sentiment-classification-using-negation-handling-9ed6dca91f53"
      ],
      "metadata": {
        "id": "Cs4pg6mAvDSD"
      }
    },
    {
      "cell_type": "code",
      "source": [
        "non_negatable_pos = {'VB', 'VBD', 'VBG', 'VBN', 'VBP', 'VBZ', 'MD'}\n",
        "\n",
        "\n",
        "def negate_sentence(sentence):\n",
        "    words = nltk.word_tokenize(sentence)\n",
        "\n",
        "    temp = 0\n",
        "    i = 1  # start from 1 to safely check the previous word for negations\n",
        "\n",
        "    # Process each word in the sentence\n",
        "    while i < len(words):\n",
        "        word = words[i-1]\n",
        "        word_pos = nltk.pos_tag(word_tokenize(word))[0][1]\n",
        "\n",
        "        if (word in ['not']) and (word_pos not in non_negatable_pos):\n",
        "            antonyms = []\n",
        "            synsets = wordnet.synsets(words[i])\n",
        "            if synsets:\n",
        "                w1 = synsets[0].name()\n",
        "                # Find antonyms for each lemma\n",
        "                for syn in synsets:\n",
        "                    for l in syn.lemmas():\n",
        "                        if l.antonyms():\n",
        "                            antonyms.append(l.antonyms()[0].name())\n",
        "\n",
        "                # If antonyms were found, choose the best one based on similarity\n",
        "                if antonyms:\n",
        "                    max_dissimilarity = 0\n",
        "                    for ant in antonyms:\n",
        "                        syns = wordnet.synsets(ant)\n",
        "                        if syns:\n",
        "                            w2 = syns[0].name()\n",
        "                            word1 = wordnet.synset(w1)\n",
        "                            word2 = wordnet.synset(w2)\n",
        "                            similarity = word1.wup_similarity(word2)\n",
        "                            if similarity:\n",
        "                                temp = 1 - similarity\n",
        "                                if temp > max_dissimilarity:\n",
        "                                    max_dissimilarity = temp\n",
        "                                    antonym_max = ant\n",
        "                                    words[i] = antonym_max  # Replace with the best antonym\n",
        "                                    words[i-1] = ''  # Remove the negation word\n",
        "\n",
        "        i += 1\n",
        "\n",
        "    words = [word for word in words if word]\n",
        "\n",
        "    sentence = ' '.join(words)\n",
        "    sentence = re.sub(r' \\?', '?', sentence)\n",
        "    sentence = re.sub(r' !', '!', sentence)\n",
        "    sentence = re.sub(r' \\' ', '\\'', sentence)\n",
        "    return sentence"
      ],
      "metadata": {
        "id": "ZqfovEcroPeR"
      },
      "execution_count": 422,
      "outputs": []
    },
    {
      "cell_type": "code",
      "source": [
        "test_negation = emotion_df[\"text\"][random.randint(0, 1000)]\n",
        "print(test_negation)\n",
        "print(negate_sentence(test_negation))"
      ],
      "metadata": {
        "colab": {
          "base_uri": "https://localhost:8080/"
        },
        "id": "ye-6oy4Hvm5A",
        "outputId": "1e54d79b-6735-4d7a-a0fa-511276794cec"
      },
      "execution_count": 423,
      "outputs": [
        {
          "output_type": "stream",
          "name": "stdout",
          "text": [
            "i got this mirror because i was starting to feel a little vulnerable when cars were passing me\n",
            "i got this mirror because i was starting to feel a little vulnerable when cars were passing me\n"
          ]
        }
      ]
    },
    {
      "cell_type": "markdown",
      "source": [
        "Separate features and target"
      ],
      "metadata": {
        "id": "wBkUmONYmtto"
      }
    },
    {
      "cell_type": "code",
      "execution_count": 424,
      "metadata": {
        "id": "ezjBSCBwXrve"
      },
      "outputs": [],
      "source": [
        "X = balanced_emotion_df['text']\n",
        "y = balanced_emotion_df.drop('text', axis=1)\n",
        "\n",
        "balanced_emotion_df['text'] = X\n",
        "balanced_emotion_df['label'] = y"
      ]
    },
    {
      "cell_type": "code",
      "execution_count": 425,
      "metadata": {
        "id": "F956ZJJtFJjn"
      },
      "outputs": [],
      "source": [
        "y = pd.get_dummies(y, columns=['label'])\n",
        "y = y.astype(int)"
      ]
    },
    {
      "cell_type": "markdown",
      "metadata": {
        "id": "nIczAaZlXrve"
      },
      "source": [
        "# Tokenization"
      ]
    },
    {
      "cell_type": "code",
      "execution_count": 426,
      "metadata": {
        "id": "Ujf31nPGCWCf"
      },
      "outputs": [],
      "source": [
        "max_len = 200\n",
        "tok = Tokenizer(num_words=20000)\n",
        "tok.fit_on_texts(X)\n",
        "sequences = tok.texts_to_sequences(X)\n",
        "sequences_matrix = sequence.pad_sequences(sequences, maxlen=max_len)"
      ]
    },
    {
      "cell_type": "code",
      "execution_count": 427,
      "metadata": {
        "id": "OVZTaQ4CXrvf",
        "colab": {
          "base_uri": "https://localhost:8080/"
        },
        "outputId": "45b8de36-314e-42a9-db72-3784a21831b3"
      },
      "outputs": [
        {
          "output_type": "stream",
          "name": "stdout",
          "text": [
            "Maximum sequence length (maxlen): 178\n"
          ]
        },
        {
          "output_type": "execute_result",
          "data": {
            "text/plain": [
              "(357380, 200)"
            ]
          },
          "metadata": {},
          "execution_count": 427
        }
      ],
      "source": [
        "# Maximum Length in X_train_sequences\n",
        "maxlen = max(len(tokens) for tokens in sequences)\n",
        "print(\"Maximum sequence length (maxlen):\", maxlen)\n",
        "\n",
        "sequences_matrix.shape"
      ]
    },
    {
      "cell_type": "code",
      "source": [
        "tok.index_word[20000]"
      ],
      "metadata": {
        "colab": {
          "base_uri": "https://localhost:8080/",
          "height": 35
        },
        "id": "UGr10upb11UM",
        "outputId": "9133c00e-ba23-4225-8764-7f0b16bba27a"
      },
      "execution_count": 428,
      "outputs": [
        {
          "output_type": "execute_result",
          "data": {
            "text/plain": [
              "'recollections'"
            ],
            "application/vnd.google.colaboratory.intrinsic+json": {
              "type": "string"
            }
          },
          "metadata": {},
          "execution_count": 428
        }
      ]
    },
    {
      "cell_type": "code",
      "execution_count": 429,
      "metadata": {
        "id": "-zjf8K1LXrvf"
      },
      "outputs": [],
      "source": [
        "X_train, X_test, y_train, y_test = train_test_split(sequences_matrix, y, test_size=0.3, random_state=2)\n"
      ]
    },
    {
      "cell_type": "markdown",
      "source": [
        "# Model Development"
      ],
      "metadata": {
        "id": "dLTkWpQ5m-K9"
      }
    },
    {
      "cell_type": "code",
      "execution_count": 430,
      "metadata": {
        "id": "yqjjftNd1m-i"
      },
      "outputs": [],
      "source": [
        "early_stopping_callback = EarlyStopping(monitor='val_loss',\n",
        "                                        patience=3,\n",
        "                                        restore_best_weights=True)\n",
        "\n",
        "reduce_lr = ReduceLROnPlateau(monitor='val_loss', factor=0.2, patience=2, min_lr=0.0001, verbose=1)"
      ]
    },
    {
      "cell_type": "code",
      "execution_count": 431,
      "metadata": {
        "id": "h7DXiiqMXrvf"
      },
      "outputs": [],
      "source": [
        "model = tf.keras.Sequential([\n",
        "  tf.keras.layers.Embedding(\n",
        "      input_dim=20000,\n",
        "      output_dim=100,\n",
        "      mask_zero=True),\n",
        "  tf.keras.layers.Bidirectional(tf.keras.layers.LSTM(64, dropout=0.3)),\n",
        "\n",
        "  tf.keras.layers.Dense(64),\n",
        "  tf.keras.layers.BatchNormalization(),\n",
        "  tf.keras.layers.Activation('relu'),\n",
        "  tf.keras.layers.Dropout(0.4),\n",
        "\n",
        "  tf.keras.layers.Dense(7, activation='softmax')\n",
        "])"
      ]
    },
    {
      "cell_type": "code",
      "execution_count": 432,
      "metadata": {
        "id": "c-rSRVIiXrvf"
      },
      "outputs": [],
      "source": [
        "model.compile(optimizer='adam', loss='categorical_crossentropy', metrics=['accuracy', Precision(), Recall()])"
      ]
    },
    {
      "cell_type": "markdown",
      "metadata": {
        "id": "s3JLY5SXfoZX"
      },
      "source": []
    },
    {
      "cell_type": "code",
      "execution_count": 433,
      "metadata": {
        "id": "2IBcyEGzXrvf",
        "colab": {
          "base_uri": "https://localhost:8080/"
        },
        "outputId": "96cf455c-ab50-49fa-f147-71064cf48e8c"
      },
      "outputs": [
        {
          "output_type": "stream",
          "name": "stdout",
          "text": [
            "Epoch 1/15\n",
            "469/469 [==============================] - 351s 717ms/step - loss: 0.9804 - accuracy: 0.6609 - precision_5: 0.8297 - recall_5: 0.5240 - val_loss: 0.5191 - val_accuracy: 0.8493 - val_precision_5: 0.8995 - val_recall_5: 0.7479 - lr: 0.0010\n",
            "Epoch 2/15\n",
            "469/469 [==============================] - 323s 689ms/step - loss: 0.4028 - accuracy: 0.8752 - precision_5: 0.9017 - recall_5: 0.8466 - val_loss: 0.4583 - val_accuracy: 0.8517 - val_precision_5: 0.8710 - val_recall_5: 0.8348 - lr: 0.0010\n",
            "Epoch 3/15\n",
            "469/469 [==============================] - 338s 719ms/step - loss: 0.2741 - accuracy: 0.9134 - precision_5: 0.9290 - recall_5: 0.8956 - val_loss: 0.4174 - val_accuracy: 0.8659 - val_precision_5: 0.8806 - val_recall_5: 0.8498 - lr: 0.0010\n",
            "Epoch 4/15\n",
            "469/469 [==============================] - 342s 730ms/step - loss: 0.2145 - accuracy: 0.9309 - precision_5: 0.9430 - recall_5: 0.9194 - val_loss: 0.4448 - val_accuracy: 0.8645 - val_precision_5: 0.8773 - val_recall_5: 0.8518 - lr: 0.0010\n",
            "Epoch 5/15\n",
            "469/469 [==============================] - ETA: 0s - loss: 0.1734 - accuracy: 0.9418 - precision_5: 0.9505 - recall_5: 0.9325\n",
            "Epoch 5: ReduceLROnPlateau reducing learning rate to 0.00020000000949949026.\n",
            "469/469 [==============================] - 327s 698ms/step - loss: 0.1734 - accuracy: 0.9418 - precision_5: 0.9505 - recall_5: 0.9325 - val_loss: 0.4737 - val_accuracy: 0.8653 - val_precision_5: 0.8760 - val_recall_5: 0.8558 - lr: 0.0010\n",
            "Epoch 6/15\n",
            "469/469 [==============================] - 341s 725ms/step - loss: 0.1188 - accuracy: 0.9600 - precision_5: 0.9657 - recall_5: 0.9543 - val_loss: 0.4656 - val_accuracy: 0.8694 - val_precision_5: 0.8782 - val_recall_5: 0.8634 - lr: 2.0000e-04\n"
          ]
        }
      ],
      "source": [
        "history = model.fit(X_train[:50000], y_train[:50000], batch_size=80, epochs=15, validation_split=0.25, verbose=1, callbacks=[early_stopping_callback, reduce_lr])"
      ]
    },
    {
      "cell_type": "code",
      "execution_count": 434,
      "metadata": {
        "id": "81DgurX2g-_o",
        "colab": {
          "base_uri": "https://localhost:8080/"
        },
        "outputId": "25c5dbdd-d20a-48da-db30-14edcf14ca47"
      },
      "outputs": [
        {
          "output_type": "stream",
          "name": "stdout",
          "text": [
            "313/313 [==============================] - 25s 79ms/step - loss: 0.4343 - accuracy: 0.8586 - precision_5: 0.8749 - recall_5: 0.8445\n"
          ]
        }
      ],
      "source": [
        "accr1 = model.evaluate(X_test[:10000], y_test[:10000]) #we are starting to test the model here\n"
      ]
    },
    {
      "cell_type": "code",
      "source": [
        "history_frame = pd.DataFrame(history.history)\n",
        "history_frame.loc[:, ['loss', 'val_loss']].plot()\n",
        "history_frame.loc[:, ['accuracy', 'val_accuracy']].plot()"
      ],
      "metadata": {
        "id": "Nu6TK1Bd4Nf8"
      },
      "execution_count": null,
      "outputs": []
    },
    {
      "cell_type": "code",
      "execution_count": 436,
      "metadata": {
        "id": "0U-W7h7cH1e4"
      },
      "outputs": [],
      "source": [
        "model.save(\"my_model.keras\")"
      ]
    },
    {
      "cell_type": "code",
      "execution_count": 437,
      "metadata": {
        "id": "CPyQOtN3iwUM",
        "colab": {
          "base_uri": "https://localhost:8080/"
        },
        "outputId": "514073ad-bcf0-4196-ca07-8b8e1c79a7af"
      },
      "outputs": [
        {
          "output_type": "stream",
          "name": "stdout",
          "text": [
            "Model: \"sequential_4\"\n",
            "_________________________________________________________________\n",
            " Layer (type)                Output Shape              Param #   \n",
            "=================================================================\n",
            " embedding_4 (Embedding)     (None, None, 100)         2000000   \n",
            "                                                                 \n",
            " bidirectional_4 (Bidirecti  (None, 128)               84480     \n",
            " onal)                                                           \n",
            "                                                                 \n",
            " dense_8 (Dense)             (None, 64)                8256      \n",
            "                                                                 \n",
            " batch_normalization_4 (Bat  (None, 64)                256       \n",
            " chNormalization)                                                \n",
            "                                                                 \n",
            " activation_4 (Activation)   (None, 64)                0         \n",
            "                                                                 \n",
            " dropout_4 (Dropout)         (None, 64)                0         \n",
            "                                                                 \n",
            " dense_9 (Dense)             (None, 7)                 455       \n",
            "                                                                 \n",
            "=================================================================\n",
            "Total params: 2093447 (7.99 MB)\n",
            "Trainable params: 2093319 (7.99 MB)\n",
            "Non-trainable params: 128 (512.00 Byte)\n",
            "_________________________________________________________________\n"
          ]
        }
      ],
      "source": [
        "model.summary()"
      ]
    },
    {
      "cell_type": "code",
      "execution_count": 438,
      "metadata": {
        "id": "KpcDv8Kfiby3",
        "colab": {
          "base_uri": "https://localhost:8080/"
        },
        "outputId": "c0517758-545a-4ace-c4fe-d3dc63155b6d"
      },
      "outputs": [
        {
          "output_type": "execute_result",
          "data": {
            "text/plain": [
              "[[1, 37, 2221, 369, 28, 8]]"
            ]
          },
          "metadata": {},
          "execution_count": 438
        }
      ],
      "source": [
        "text = \"i do dislike talking about that\"\n",
        "sequences = tok.texts_to_sequences([text])\n",
        "sequences_matrix = sequence.pad_sequences(sequences,maxlen=max_len)\n",
        "sequences"
      ]
    },
    {
      "cell_type": "code",
      "execution_count": 439,
      "metadata": {
        "id": "a_LpYo-LihZe",
        "colab": {
          "base_uri": "https://localhost:8080/"
        },
        "outputId": "76af7904-31c4-4811-b6d8-1c27fd9c9328"
      },
      "outputs": [
        {
          "output_type": "stream",
          "name": "stdout",
          "text": [
            "1/1 [==============================] - 4s 4s/step\n",
            "label_neutral\n"
          ]
        }
      ],
      "source": [
        "prediction = model.predict(sequences_matrix)\n",
        "predicted_index = np.argmax(prediction)\n",
        "\n",
        "predicted_label = y.columns[predicted_index]\n",
        "print(predicted_label)"
      ]
    },
    {
      "cell_type": "code",
      "source": [
        "predictions = model.predict(X_test[:5000])\n",
        "predicted_classes = np.argmax(predictions, axis=1)\n",
        "true_classes = np.argmax(y_test[:5000], axis=1)\n",
        "\n",
        "cm = confusion_matrix(true_classes, predicted_classes)\n",
        "cm = cm.astype('float') / cm.sum(axis=1)[:, np.newaxis]\n",
        "print(cm)"
      ],
      "metadata": {
        "colab": {
          "base_uri": "https://localhost:8080/"
        },
        "id": "DVMVmyWvrieF",
        "outputId": "05d36214-e738-463f-8376-566d3afaf4ba"
      },
      "execution_count": 440,
      "outputs": [
        {
          "output_type": "stream",
          "name": "stdout",
          "text": [
            "157/157 [==============================] - 11s 72ms/step\n",
            "[[0.8590604  0.02796421 0.00671141 0.00559284 0.06599553 0.03355705\n",
            "  0.00111857]\n",
            " [0.04038997 0.84818942 0.00278552 0.00139276 0.02367688 0.03203343\n",
            "  0.05153203]\n",
            " [0.01997897 0.01156677 0.80231335 0.09568875 0.02313354 0.01997897\n",
            "  0.02733964]\n",
            " [0.00369004 0.00553506 0.03136531 0.90590406 0.04428044 0.00553506\n",
            "  0.00369004]\n",
            " [0.04450262 0.0104712  0.01439791 0.01832461 0.86649215 0.03272251\n",
            "  0.01308901]\n",
            " [0.02502844 0.02161547 0.01592719 0.00682594 0.02275313 0.90102389\n",
            "  0.00682594]\n",
            " [0.01587302 0.10714286 0.02380952 0.00396825 0.11507937 0.00396825\n",
            "  0.73015873]]\n"
          ]
        }
      ]
    },
    {
      "cell_type": "code",
      "source": [
        "classes = y.columns\n",
        "\n",
        "sns.heatmap(cm, annot=True)\n",
        "plt.title('Confusion matrix')\n",
        "\n",
        "tick_marks = np.arange(len(classes))\n",
        "plt.xticks(tick_marks, classes, rotation=90)\n",
        "plt.yticks(tick_marks, classes, rotation=0)\n",
        "\n",
        "plt.ylabel('True label')\n",
        "plt.xlabel('Predicted label')\n",
        "\n",
        "plt.figure(figsize=(15, 15))"
      ],
      "metadata": {
        "colab": {
          "base_uri": "https://localhost:8080/",
          "height": 591
        },
        "id": "mWC786kast9Y",
        "outputId": "1b004a40-c1a2-4be0-dd93-ce9265dfad7e"
      },
      "execution_count": 441,
      "outputs": [
        {
          "data": {
            "text/plain": [
              "<Figure size 1500x1500 with 0 Axes>"
            ]
          },
          "execution_count": 441,
          "metadata": {},
          "output_type": "execute_result"
        },
        {
          "data": {
            "image/png": "[encoded data removed]",
            "text/plain": [
              "<Figure size 640x480 with 2 Axes>"
            ]
          },
          "metadata": {},
          "output_type": "display_data"
        },
        {
          "data": {
            "text/plain": [
              "<Figure size 1500x1500 with 0 Axes>"
            ]
          },
          "metadata": {},
          "output_type": "display_data"
        }
      ]
    }
  ],
  "metadata": {
    "colab": {
      "provenance": []
    },
    "kernelspec": {
      "display_name": "Python 3",
      "name": "python3"
    },
    "language_info": {
      "codemirror_mode": {
        "name": "ipython",
        "version": 3
      },
      "file_extension": ".py",
      "mimetype": "text/x-python",
      "name": "python",
      "nbconvert_exporter": "python",
      "pygments_lexer": "ipython3",
      "version": "3.11.5"
    }
  },
  "nbformat": 4,
  "nbformat_minor": 0
}